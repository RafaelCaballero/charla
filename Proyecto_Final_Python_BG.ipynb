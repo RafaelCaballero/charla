{
 "cells": [
  {
   "cell_type": "markdown",
   "metadata": {
    "id": "4itUurW3tvdJ"
   },
   "source": [
    "# **PRIMERA PARTE:** ANÁLISIS EXPLORATORIO\n"
   ]
  },
  {
   "cell_type": "markdown",
   "metadata": {
    "id": "yyGbWLUnmzeU"
   },
   "source": [
    "1. Importo liberías, cargo datos y preparo el Dataframe"
   ]
  },
  {
   "cell_type": "code",
   "execution_count": 3,
   "metadata": {
    "colab": {
     "base_uri": "https://localhost:8080/"
    },
    "id": "_taXEvkym2ne",
    "outputId": "61c5e3b3-e499-4ba0-a46d-1a78ccc33e2f"
   },
   "outputs": [
    {
     "name": "stdout",
     "output_type": "stream",
     "text": [
      "Requirement already satisfied: yfinance in c:\\users\\usuario\\appdata\\roaming\\python\\python312\\site-packages (0.2.50)\n",
      "Requirement already satisfied: pandas>=1.3.0 in d:\\instalados\\anaconda\\lib\\site-packages (from yfinance) (2.2.3)\n",
      "Requirement already satisfied: numpy>=1.16.5 in d:\\instalados\\anaconda\\lib\\site-packages (from yfinance) (1.26.4)\n",
      "Requirement already satisfied: requests>=2.31 in d:\\instalados\\anaconda\\lib\\site-packages (from yfinance) (2.32.3)\n",
      "Requirement already satisfied: multitasking>=0.0.7 in c:\\users\\usuario\\appdata\\roaming\\python\\python312\\site-packages (from yfinance) (0.0.11)\n",
      "Requirement already satisfied: lxml>=4.9.1 in d:\\instalados\\anaconda\\lib\\site-packages (from yfinance) (5.2.1)\n",
      "Requirement already satisfied: platformdirs>=2.0.0 in d:\\instalados\\anaconda\\lib\\site-packages (from yfinance) (3.10.0)\n",
      "Requirement already satisfied: pytz>=2022.5 in d:\\instalados\\anaconda\\lib\\site-packages (from yfinance) (2024.1)\n",
      "Requirement already satisfied: frozendict>=2.3.4 in d:\\instalados\\anaconda\\lib\\site-packages (from yfinance) (2.4.2)\n",
      "Requirement already satisfied: peewee>=3.16.2 in c:\\users\\usuario\\appdata\\roaming\\python\\python312\\site-packages (from yfinance) (3.17.8)\n",
      "Requirement already satisfied: beautifulsoup4>=4.11.1 in d:\\instalados\\anaconda\\lib\\site-packages (from yfinance) (4.12.3)\n",
      "Requirement already satisfied: html5lib>=1.1 in c:\\users\\usuario\\appdata\\roaming\\python\\python312\\site-packages (from yfinance) (1.1)\n",
      "Requirement already satisfied: soupsieve>1.2 in d:\\instalados\\anaconda\\lib\\site-packages (from beautifulsoup4>=4.11.1->yfinance) (2.5)\n",
      "Requirement already satisfied: six>=1.9 in d:\\instalados\\anaconda\\lib\\site-packages (from html5lib>=1.1->yfinance) (1.16.0)\n",
      "Requirement already satisfied: webencodings in d:\\instalados\\anaconda\\lib\\site-packages (from html5lib>=1.1->yfinance) (0.5.1)\n",
      "Requirement already satisfied: python-dateutil>=2.8.2 in d:\\instalados\\anaconda\\lib\\site-packages (from pandas>=1.3.0->yfinance) (2.9.0.post0)\n",
      "Requirement already satisfied: tzdata>=2022.7 in d:\\instalados\\anaconda\\lib\\site-packages (from pandas>=1.3.0->yfinance) (2023.3)\n",
      "Requirement already satisfied: charset-normalizer<4,>=2 in d:\\instalados\\anaconda\\lib\\site-packages (from requests>=2.31->yfinance) (3.3.2)\n",
      "Requirement already satisfied: idna<4,>=2.5 in d:\\instalados\\anaconda\\lib\\site-packages (from requests>=2.31->yfinance) (3.7)\n",
      "Requirement already satisfied: urllib3<3,>=1.21.1 in d:\\instalados\\anaconda\\lib\\site-packages (from requests>=2.31->yfinance) (2.2.3)\n",
      "Requirement already satisfied: certifi>=2017.4.17 in d:\\instalados\\anaconda\\lib\\site-packages (from requests>=2.31->yfinance) (2024.8.30)\n"
     ]
    }
   ],
   "source": [
    "#Para análisis de datos\n",
    "import pandas as pd\n",
    "import numpy as np\n",
    "#Para visualización de los datos\n",
    "import matplotlib.pyplot as plt\n",
    "import seaborn as sns\n",
    "#Para descargar datos de Yahoo Finance\n",
    "!pip install yfinance\n",
    "import yfinance as yf"
   ]
  },
  {
   "cell_type": "code",
   "execution_count": 4,
   "metadata": {
    "id": "2OywSNuOovdY"
   },
   "outputs": [],
   "source": [
    "#Voy a utilizar las cotizaciones diarias de Santander y Grifols durante los años 2022 y 2023.\n",
    "#También descargo el Índice al que pertenecen (Ibex35) para más tarde estudiar la correlación y valorar su utilización en la parte de Machine Learning\n",
    "\n",
    "#Cargo los datos desde YahooFinance\n",
    "Santander = 'SAN.MC'\n",
    "Grifols = 'GRF.MC'\n",
    "IBEX = '^IBEX'\n",
    "\n",
    "ibex_data = yf.Ticker(IBEX)\n",
    "santander_data = yf.Ticker(Santander)\n",
    "grifols_data = yf.Ticker(Grifols)\n",
    "\n",
    "start_date = '2022-01-01'\n",
    "end_date = '2023-12-31'\n",
    "\n",
    "#Me descargo la serie histórica con periodicidad diaria\n",
    "ibex_df = ibex_data.history(period='1d', start=start_date, end=end_date)\n",
    "santander_df = santander_data.history(period='1d', start=start_date, end=end_date)\n",
    "grifols_df = grifols_data.history(period='1d', start=start_date, end=end_date)"
   ]
  },
  {
   "cell_type": "code",
   "execution_count": 5,
   "metadata": {
    "colab": {
     "base_uri": "https://localhost:8080/"
    },
    "id": "1Bh8ewQ0q--6",
    "outputId": "a22be799-6d42-45aa-e5a4-db497a10e951"
   },
   "outputs": [
    {
     "name": "stdout",
     "output_type": "stream",
     "text": [
      "Index(['Open', 'High', 'Low', 'Close', 'Volume', 'Dividends', 'Stock Splits'], dtype='object')\n",
      "Index(['Open', 'High', 'Low', 'Close', 'Volume', 'Dividends', 'Stock Splits'], dtype='object')\n",
      "Index(['Open', 'High', 'Low', 'Close', 'Volume', 'Dividends', 'Stock Splits'], dtype='object')\n"
     ]
    }
   ],
   "source": [
    "#Hago un print para ver las columnas de los datasets cargados desde yahoofinance\n",
    "print(ibex_df.columns)\n",
    "print(santander_df.columns)\n",
    "print(grifols_df.columns)"
   ]
  },
  {
   "cell_type": "code",
   "execution_count": 6,
   "metadata": {
    "colab": {
     "base_uri": "https://localhost:8080/"
    },
    "id": "jRvBu9XoqSLZ",
    "outputId": "874f9367-6643-4568-abd1-b25577a24d77"
   },
   "outputs": [
    {
     "name": "stdout",
     "output_type": "stream",
     "text": [
      "DatetimeIndex(['2022-01-03 00:00:00+01:00', '2022-01-04 00:00:00+01:00',\n",
      "               '2022-01-05 00:00:00+01:00', '2022-01-06 00:00:00+01:00',\n",
      "               '2022-01-07 00:00:00+01:00', '2022-01-10 00:00:00+01:00',\n",
      "               '2022-01-11 00:00:00+01:00', '2022-01-12 00:00:00+01:00',\n",
      "               '2022-01-13 00:00:00+01:00', '2022-01-14 00:00:00+01:00',\n",
      "               ...\n",
      "               '2023-12-14 00:00:00+01:00', '2023-12-15 00:00:00+01:00',\n",
      "               '2023-12-18 00:00:00+01:00', '2023-12-19 00:00:00+01:00',\n",
      "               '2023-12-20 00:00:00+01:00', '2023-12-21 00:00:00+01:00',\n",
      "               '2023-12-22 00:00:00+01:00', '2023-12-27 00:00:00+01:00',\n",
      "               '2023-12-28 00:00:00+01:00', '2023-12-29 00:00:00+01:00'],\n",
      "              dtype='datetime64[ns, Europe/Madrid]', name='Date', length=512, freq=None)\n"
     ]
    }
   ],
   "source": [
    "#Al descargar los datos de YahooFinance, el daframe tiene una 'columna' que es el Índice y contiene la fecha.\n",
    "#Este índice se utiliza para identificar cada fila de forma única\n",
    "print(grifols_df.index)"
   ]
  },
  {
   "cell_type": "markdown",
   "metadata": {
    "id": "PEfJY25auawT"
   },
   "source": [
    "En este caso, el Índice al ser de tipo DatetimeIndex, me permite trabajar con series temporales y poder filtrar los datos por año:"
   ]
  },
  {
   "cell_type": "code",
   "execution_count": 8,
   "metadata": {
    "id": "KTPKyuUOqWj7"
   },
   "outputs": [],
   "source": [
    "#Añado las columnas 'Fecha' y 'Hora', partiendo del Índice\n",
    "santander_df['Date']= pd.to_datetime(santander_df.index).date\n",
    "santander_df['Time']= pd.to_datetime(santander_df.index).time\n",
    "\n",
    "grifols_df['Date']= pd.to_datetime(grifols_df.index).date\n",
    "grifols_df['Time']= pd.to_datetime(grifols_df.index).time\n",
    "\n",
    "ibex_df['Date']= pd.to_datetime(ibex_df.index).date\n",
    "ibex_df['Time']= pd.to_datetime(ibex_df.index).time\n"
   ]
  },
  {
   "cell_type": "code",
   "execution_count": 9,
   "metadata": {
    "id": "vYD4__Nxq7Dz"
   },
   "outputs": [],
   "source": [
    "#Como la columna 'Date' ya es independiente, la paso a formato datetime para separarla a su vez en tres y poder trabajar con el Año individualmente\n",
    "santander_df['Date'] = pd.to_datetime(santander_df['Date'])\n",
    "santander_df['Año'] = santander_df['Date'].dt.year\n",
    "santander_df['Mes'] = santander_df['Date'].dt.month\n",
    "santander_df['Día'] = santander_df['Date'].dt.day\n",
    "\n",
    "grifols_df['Date'] = pd.to_datetime(grifols_df['Date'])\n",
    "grifols_df['Año'] = grifols_df['Date'].dt.year\n",
    "grifols_df['Mes'] = grifols_df['Date'].dt.month\n",
    "grifols_df['Día'] = grifols_df['Date'].dt.day\n",
    "\n",
    "ibex_df['Date'] = pd.to_datetime(ibex_df['Date'])\n",
    "ibex_df['Año'] = ibex_df['Date'].dt.year\n",
    "ibex_df['Mes'] = ibex_df['Date'].dt.month\n",
    "ibex_df['Día'] = ibex_df['Date'].dt.day"
   ]
  },
  {
   "cell_type": "code",
   "execution_count": 10,
   "metadata": {
    "colab": {
     "base_uri": "https://localhost:8080/"
    },
    "id": "LmTvVCP-yfLq",
    "outputId": "2766daf6-ba43-4775-ebaa-57a48cdea01f"
   },
   "outputs": [
    {
     "name": "stdout",
     "output_type": "stream",
     "text": [
      "Index(['Open', 'High', 'Low', 'Close', 'Volume', 'Dividends', 'Stock Splits',\n",
      "       'Date', 'Time', 'Año', 'Mes', 'Día'],\n",
      "      dtype='object')\n",
      "Index(['Open', 'High', 'Low', 'Close', 'Volume', 'Dividends', 'Stock Splits',\n",
      "       'Date', 'Time', 'Año', 'Mes', 'Día'],\n",
      "      dtype='object')\n",
      "Index(['Open', 'High', 'Low', 'Close', 'Volume', 'Dividends', 'Stock Splits',\n",
      "       'Date', 'Time', 'Año', 'Mes', 'Día'],\n",
      "      dtype='object')\n"
     ]
    }
   ],
   "source": [
    "print(santander_df.columns)\n",
    "print(grifols_df.columns)\n",
    "print(ibex_df.columns)"
   ]
  },
  {
   "cell_type": "code",
   "execution_count": 11,
   "metadata": {
    "colab": {
     "base_uri": "https://localhost:8080/",
     "height": 1000
    },
    "id": "thiPXCQWx0j4",
    "outputId": "98d4b284-5b64-4bf0-b64b-2ef5816a5b4e"
   },
   "outputs": [
    {
     "data": {
      "text/markdown": [
       "### Santander Cotización"
      ],
      "text/plain": [
       "<IPython.core.display.Markdown object>"
      ]
     },
     "metadata": {},
     "output_type": "display_data"
    },
    {
     "data": {
      "text/html": [
       "<div>\n",
       "<style scoped>\n",
       "    .dataframe tbody tr th:only-of-type {\n",
       "        vertical-align: middle;\n",
       "    }\n",
       "\n",
       "    .dataframe tbody tr th {\n",
       "        vertical-align: top;\n",
       "    }\n",
       "\n",
       "    .dataframe thead th {\n",
       "        text-align: right;\n",
       "    }\n",
       "</style>\n",
       "<table border=\"1\" class=\"dataframe\">\n",
       "  <thead>\n",
       "    <tr style=\"text-align: right;\">\n",
       "      <th></th>\n",
       "      <th>Close</th>\n",
       "      <th>Año</th>\n",
       "    </tr>\n",
       "    <tr>\n",
       "      <th>Date</th>\n",
       "      <th></th>\n",
       "      <th></th>\n",
       "    </tr>\n",
       "  </thead>\n",
       "  <tbody>\n",
       "    <tr>\n",
       "      <th>2022-01-03 00:00:00+01:00</th>\n",
       "      <td>2.606137</td>\n",
       "      <td>2022</td>\n",
       "    </tr>\n",
       "    <tr>\n",
       "      <th>2022-01-04 00:00:00+01:00</th>\n",
       "      <td>2.678566</td>\n",
       "      <td>2022</td>\n",
       "    </tr>\n",
       "    <tr>\n",
       "      <th>2022-01-05 00:00:00+01:00</th>\n",
       "      <td>2.682982</td>\n",
       "      <td>2022</td>\n",
       "    </tr>\n",
       "    <tr>\n",
       "      <th>2022-01-06 00:00:00+01:00</th>\n",
       "      <td>2.725380</td>\n",
       "      <td>2022</td>\n",
       "    </tr>\n",
       "    <tr>\n",
       "      <th>2022-01-07 00:00:00+01:00</th>\n",
       "      <td>2.749229</td>\n",
       "      <td>2022</td>\n",
       "    </tr>\n",
       "    <tr>\n",
       "      <th>...</th>\n",
       "      <td>...</td>\n",
       "      <td>...</td>\n",
       "    </tr>\n",
       "    <tr>\n",
       "      <th>2023-12-21 00:00:00+01:00</th>\n",
       "      <td>3.635945</td>\n",
       "      <td>2023</td>\n",
       "    </tr>\n",
       "    <tr>\n",
       "      <th>2023-12-22 00:00:00+01:00</th>\n",
       "      <td>3.650324</td>\n",
       "      <td>2023</td>\n",
       "    </tr>\n",
       "    <tr>\n",
       "      <th>2023-12-27 00:00:00+01:00</th>\n",
       "      <td>3.652241</td>\n",
       "      <td>2023</td>\n",
       "    </tr>\n",
       "    <tr>\n",
       "      <th>2023-12-28 00:00:00+01:00</th>\n",
       "      <td>3.630672</td>\n",
       "      <td>2023</td>\n",
       "    </tr>\n",
       "    <tr>\n",
       "      <th>2023-12-29 00:00:00+01:00</th>\n",
       "      <td>3.623004</td>\n",
       "      <td>2023</td>\n",
       "    </tr>\n",
       "  </tbody>\n",
       "</table>\n",
       "<p>512 rows × 2 columns</p>\n",
       "</div>"
      ],
      "text/plain": [
       "                              Close   Año\n",
       "Date                                     \n",
       "2022-01-03 00:00:00+01:00  2.606137  2022\n",
       "2022-01-04 00:00:00+01:00  2.678566  2022\n",
       "2022-01-05 00:00:00+01:00  2.682982  2022\n",
       "2022-01-06 00:00:00+01:00  2.725380  2022\n",
       "2022-01-07 00:00:00+01:00  2.749229  2022\n",
       "...                             ...   ...\n",
       "2023-12-21 00:00:00+01:00  3.635945  2023\n",
       "2023-12-22 00:00:00+01:00  3.650324  2023\n",
       "2023-12-27 00:00:00+01:00  3.652241  2023\n",
       "2023-12-28 00:00:00+01:00  3.630672  2023\n",
       "2023-12-29 00:00:00+01:00  3.623004  2023\n",
       "\n",
       "[512 rows x 2 columns]"
      ]
     },
     "metadata": {},
     "output_type": "display_data"
    },
    {
     "data": {
      "text/markdown": [
       "### Grifols Cotización"
      ],
      "text/plain": [
       "<IPython.core.display.Markdown object>"
      ]
     },
     "metadata": {},
     "output_type": "display_data"
    },
    {
     "data": {
      "text/html": [
       "<div>\n",
       "<style scoped>\n",
       "    .dataframe tbody tr th:only-of-type {\n",
       "        vertical-align: middle;\n",
       "    }\n",
       "\n",
       "    .dataframe tbody tr th {\n",
       "        vertical-align: top;\n",
       "    }\n",
       "\n",
       "    .dataframe thead th {\n",
       "        text-align: right;\n",
       "    }\n",
       "</style>\n",
       "<table border=\"1\" class=\"dataframe\">\n",
       "  <thead>\n",
       "    <tr style=\"text-align: right;\">\n",
       "      <th></th>\n",
       "      <th>Close</th>\n",
       "      <th>Año</th>\n",
       "    </tr>\n",
       "    <tr>\n",
       "      <th>Date</th>\n",
       "      <th></th>\n",
       "      <th></th>\n",
       "    </tr>\n",
       "  </thead>\n",
       "  <tbody>\n",
       "    <tr>\n",
       "      <th>2022-01-03 00:00:00+01:00</th>\n",
       "      <td>16.740000</td>\n",
       "      <td>2022</td>\n",
       "    </tr>\n",
       "    <tr>\n",
       "      <th>2022-01-04 00:00:00+01:00</th>\n",
       "      <td>16.405001</td>\n",
       "      <td>2022</td>\n",
       "    </tr>\n",
       "    <tr>\n",
       "      <th>2022-01-05 00:00:00+01:00</th>\n",
       "      <td>16.139999</td>\n",
       "      <td>2022</td>\n",
       "    </tr>\n",
       "    <tr>\n",
       "      <th>2022-01-06 00:00:00+01:00</th>\n",
       "      <td>16.495001</td>\n",
       "      <td>2022</td>\n",
       "    </tr>\n",
       "    <tr>\n",
       "      <th>2022-01-07 00:00:00+01:00</th>\n",
       "      <td>16.215000</td>\n",
       "      <td>2022</td>\n",
       "    </tr>\n",
       "    <tr>\n",
       "      <th>...</th>\n",
       "      <td>...</td>\n",
       "      <td>...</td>\n",
       "    </tr>\n",
       "    <tr>\n",
       "      <th>2023-12-21 00:00:00+01:00</th>\n",
       "      <td>14.345000</td>\n",
       "      <td>2023</td>\n",
       "    </tr>\n",
       "    <tr>\n",
       "      <th>2023-12-22 00:00:00+01:00</th>\n",
       "      <td>14.280000</td>\n",
       "      <td>2023</td>\n",
       "    </tr>\n",
       "    <tr>\n",
       "      <th>2023-12-27 00:00:00+01:00</th>\n",
       "      <td>14.180000</td>\n",
       "      <td>2023</td>\n",
       "    </tr>\n",
       "    <tr>\n",
       "      <th>2023-12-28 00:00:00+01:00</th>\n",
       "      <td>14.230000</td>\n",
       "      <td>2023</td>\n",
       "    </tr>\n",
       "    <tr>\n",
       "      <th>2023-12-29 00:00:00+01:00</th>\n",
       "      <td>15.455000</td>\n",
       "      <td>2023</td>\n",
       "    </tr>\n",
       "  </tbody>\n",
       "</table>\n",
       "<p>512 rows × 2 columns</p>\n",
       "</div>"
      ],
      "text/plain": [
       "                               Close   Año\n",
       "Date                                      \n",
       "2022-01-03 00:00:00+01:00  16.740000  2022\n",
       "2022-01-04 00:00:00+01:00  16.405001  2022\n",
       "2022-01-05 00:00:00+01:00  16.139999  2022\n",
       "2022-01-06 00:00:00+01:00  16.495001  2022\n",
       "2022-01-07 00:00:00+01:00  16.215000  2022\n",
       "...                              ...   ...\n",
       "2023-12-21 00:00:00+01:00  14.345000  2023\n",
       "2023-12-22 00:00:00+01:00  14.280000  2023\n",
       "2023-12-27 00:00:00+01:00  14.180000  2023\n",
       "2023-12-28 00:00:00+01:00  14.230000  2023\n",
       "2023-12-29 00:00:00+01:00  15.455000  2023\n",
       "\n",
       "[512 rows x 2 columns]"
      ]
     },
     "metadata": {},
     "output_type": "display_data"
    },
    {
     "data": {
      "text/markdown": [
       "### IBEX Cotización"
      ],
      "text/plain": [
       "<IPython.core.display.Markdown object>"
      ]
     },
     "metadata": {},
     "output_type": "display_data"
    },
    {
     "data": {
      "text/html": [
       "<div>\n",
       "<style scoped>\n",
       "    .dataframe tbody tr th:only-of-type {\n",
       "        vertical-align: middle;\n",
       "    }\n",
       "\n",
       "    .dataframe tbody tr th {\n",
       "        vertical-align: top;\n",
       "    }\n",
       "\n",
       "    .dataframe thead th {\n",
       "        text-align: right;\n",
       "    }\n",
       "</style>\n",
       "<table border=\"1\" class=\"dataframe\">\n",
       "  <thead>\n",
       "    <tr style=\"text-align: right;\">\n",
       "      <th></th>\n",
       "      <th>Close</th>\n",
       "      <th>Año</th>\n",
       "    </tr>\n",
       "    <tr>\n",
       "      <th>Date</th>\n",
       "      <th></th>\n",
       "      <th></th>\n",
       "    </tr>\n",
       "  </thead>\n",
       "  <tbody>\n",
       "    <tr>\n",
       "      <th>2022-01-03 00:00:00+01:00</th>\n",
       "      <td>8761.200195</td>\n",
       "      <td>2022</td>\n",
       "    </tr>\n",
       "    <tr>\n",
       "      <th>2022-01-04 00:00:00+01:00</th>\n",
       "      <td>8795.799805</td>\n",
       "      <td>2022</td>\n",
       "    </tr>\n",
       "    <tr>\n",
       "      <th>2022-01-05 00:00:00+01:00</th>\n",
       "      <td>8790.799805</td>\n",
       "      <td>2022</td>\n",
       "    </tr>\n",
       "    <tr>\n",
       "      <th>2022-01-06 00:00:00+01:00</th>\n",
       "      <td>8789.900391</td>\n",
       "      <td>2022</td>\n",
       "    </tr>\n",
       "    <tr>\n",
       "      <th>2022-01-07 00:00:00+01:00</th>\n",
       "      <td>8751.799805</td>\n",
       "      <td>2022</td>\n",
       "    </tr>\n",
       "    <tr>\n",
       "      <th>...</th>\n",
       "      <td>...</td>\n",
       "      <td>...</td>\n",
       "    </tr>\n",
       "    <tr>\n",
       "      <th>2023-12-21 00:00:00+01:00</th>\n",
       "      <td>10104.299805</td>\n",
       "      <td>2023</td>\n",
       "    </tr>\n",
       "    <tr>\n",
       "      <th>2023-12-22 00:00:00+01:00</th>\n",
       "      <td>10111.900391</td>\n",
       "      <td>2023</td>\n",
       "    </tr>\n",
       "    <tr>\n",
       "      <th>2023-12-27 00:00:00+01:00</th>\n",
       "      <td>10121.799805</td>\n",
       "      <td>2023</td>\n",
       "    </tr>\n",
       "    <tr>\n",
       "      <th>2023-12-28 00:00:00+01:00</th>\n",
       "      <td>10086.200195</td>\n",
       "      <td>2023</td>\n",
       "    </tr>\n",
       "    <tr>\n",
       "      <th>2023-12-29 00:00:00+01:00</th>\n",
       "      <td>10102.099609</td>\n",
       "      <td>2023</td>\n",
       "    </tr>\n",
       "  </tbody>\n",
       "</table>\n",
       "<p>512 rows × 2 columns</p>\n",
       "</div>"
      ],
      "text/plain": [
       "                                  Close   Año\n",
       "Date                                         \n",
       "2022-01-03 00:00:00+01:00   8761.200195  2022\n",
       "2022-01-04 00:00:00+01:00   8795.799805  2022\n",
       "2022-01-05 00:00:00+01:00   8790.799805  2022\n",
       "2022-01-06 00:00:00+01:00   8789.900391  2022\n",
       "2022-01-07 00:00:00+01:00   8751.799805  2022\n",
       "...                                 ...   ...\n",
       "2023-12-21 00:00:00+01:00  10104.299805  2023\n",
       "2023-12-22 00:00:00+01:00  10111.900391  2023\n",
       "2023-12-27 00:00:00+01:00  10121.799805  2023\n",
       "2023-12-28 00:00:00+01:00  10086.200195  2023\n",
       "2023-12-29 00:00:00+01:00  10102.099609  2023\n",
       "\n",
       "[512 rows x 2 columns]"
      ]
     },
     "metadata": {},
     "output_type": "display_data"
    }
   ],
   "source": [
    "#Muestro los 3 dataframes con la información que necesito\n",
    "#Primero instalo dos funciones para mostrar la información en un formato más dinámico y llamativo\n",
    "from IPython.display import display, Markdown\n",
    "\n",
    "#Me quedo con todas las filas pero solo la columna del precio de cierre y del año para poder filtrar\n",
    "santander_df = santander_df.loc[:,['Close','Año']]\n",
    "display(Markdown('### Santander Cotización'))\n",
    "display(santander_df)\n",
    "\n",
    "grifols_df = grifols_df.loc[:,['Close','Año']]\n",
    "display(Markdown('### Grifols Cotización'))\n",
    "display(grifols_df)\n",
    "\n",
    "ibex_df = ibex_df.loc[:,['Close','Año']]\n",
    "display(Markdown('### IBEX Cotización'))\n",
    "display(ibex_df)"
   ]
  },
  {
   "cell_type": "markdown",
   "metadata": {
    "id": "GUHvzEHeKF5_"
   },
   "source": [
    "2. Como segundo paso, me dedico a conocer los datos"
   ]
  },
  {
   "cell_type": "code",
   "execution_count": 13,
   "metadata": {
    "colab": {
     "base_uri": "https://localhost:8080/"
    },
    "id": "k-Q_0yumQPBx",
    "outputId": "d789737d-65b3-4700-e844-18ced255ac9f"
   },
   "outputs": [
    {
     "name": "stdout",
     "output_type": "stream",
     "text": [
      "Santander\n",
      "<class 'pandas.core.frame.DataFrame'>\n",
      "DatetimeIndex: 512 entries, 2022-01-03 00:00:00+01:00 to 2023-12-29 00:00:00+01:00\n",
      "Data columns (total 2 columns):\n",
      " #   Column  Non-Null Count  Dtype  \n",
      "---  ------  --------------  -----  \n",
      " 0   Close   512 non-null    float64\n",
      " 1   Año     512 non-null    int32  \n",
      "dtypes: float64(1), int32(1)\n",
      "memory usage: 10.0 KB\n",
      "None\n",
      "Grifols\n",
      "<class 'pandas.core.frame.DataFrame'>\n",
      "DatetimeIndex: 512 entries, 2022-01-03 00:00:00+01:00 to 2023-12-29 00:00:00+01:00\n",
      "Data columns (total 2 columns):\n",
      " #   Column  Non-Null Count  Dtype  \n",
      "---  ------  --------------  -----  \n",
      " 0   Close   512 non-null    float64\n",
      " 1   Año     512 non-null    int32  \n",
      "dtypes: float64(1), int32(1)\n",
      "memory usage: 10.0 KB\n",
      "None\n",
      "Ibex 35\n",
      "<class 'pandas.core.frame.DataFrame'>\n",
      "DatetimeIndex: 512 entries, 2022-01-03 00:00:00+01:00 to 2023-12-29 00:00:00+01:00\n",
      "Data columns (total 2 columns):\n",
      " #   Column  Non-Null Count  Dtype  \n",
      "---  ------  --------------  -----  \n",
      " 0   Close   512 non-null    float64\n",
      " 1   Año     512 non-null    int32  \n",
      "dtypes: float64(1), int32(1)\n",
      "memory usage: 10.0 KB\n",
      "None\n"
     ]
    }
   ],
   "source": [
    "#Información de tipos\n",
    "print('Santander')\n",
    "print(santander_df.info())\n",
    "print('Grifols')\n",
    "print(grifols_df.info())\n",
    "print('Ibex 35')\n",
    "print(ibex_df.info())"
   ]
  },
  {
   "cell_type": "markdown",
   "metadata": {
    "id": "PWVkaSh64Izz"
   },
   "source": [
    "Ahora sabemos que, los tres dataframes tienen 512 entradas que corresponden a los días que ha habido cotización bursátil empezando el 3 de enero de 2022 hasta el 29 de diciembre de 2023. Principalmente, lo que más me interesa es el data type, que además coincide en todos ellos: la columna Close (precio de cierre) es de tipo númerico con decimales (perfecto para poder hacer cálculos a continuación); y la columna Año de tipo entero (para luego poder hacer análisis temporal usando filtro por año)."
   ]
  },
  {
   "cell_type": "code",
   "execution_count": 15,
   "metadata": {
    "colab": {
     "base_uri": "https://localhost:8080/",
     "height": 455
    },
    "id": "M5dBLLNEK_mF",
    "outputId": "7a48aacd-1791-4c7d-ccf0-b197facd5121"
   },
   "outputs": [
    {
     "data": {
      "text/html": [
       "<div>\n",
       "<style scoped>\n",
       "    .dataframe tbody tr th:only-of-type {\n",
       "        vertical-align: middle;\n",
       "    }\n",
       "\n",
       "    .dataframe tbody tr th {\n",
       "        vertical-align: top;\n",
       "    }\n",
       "\n",
       "    .dataframe thead th {\n",
       "        text-align: right;\n",
       "    }\n",
       "</style>\n",
       "<table border=\"1\" class=\"dataframe\">\n",
       "  <thead>\n",
       "    <tr style=\"text-align: right;\">\n",
       "      <th></th>\n",
       "      <th>Santander</th>\n",
       "      <th>Año</th>\n",
       "      <th>Grifols</th>\n",
       "      <th>Ibex</th>\n",
       "    </tr>\n",
       "    <tr>\n",
       "      <th>Date</th>\n",
       "      <th></th>\n",
       "      <th></th>\n",
       "      <th></th>\n",
       "      <th></th>\n",
       "    </tr>\n",
       "  </thead>\n",
       "  <tbody>\n",
       "    <tr>\n",
       "      <th>2022-01-03 00:00:00+01:00</th>\n",
       "      <td>2.606137</td>\n",
       "      <td>2022</td>\n",
       "      <td>16.740000</td>\n",
       "      <td>8761.200195</td>\n",
       "    </tr>\n",
       "    <tr>\n",
       "      <th>2022-01-04 00:00:00+01:00</th>\n",
       "      <td>2.678566</td>\n",
       "      <td>2022</td>\n",
       "      <td>16.405001</td>\n",
       "      <td>8795.799805</td>\n",
       "    </tr>\n",
       "    <tr>\n",
       "      <th>2022-01-05 00:00:00+01:00</th>\n",
       "      <td>2.682982</td>\n",
       "      <td>2022</td>\n",
       "      <td>16.139999</td>\n",
       "      <td>8790.799805</td>\n",
       "    </tr>\n",
       "    <tr>\n",
       "      <th>2022-01-06 00:00:00+01:00</th>\n",
       "      <td>2.725380</td>\n",
       "      <td>2022</td>\n",
       "      <td>16.495001</td>\n",
       "      <td>8789.900391</td>\n",
       "    </tr>\n",
       "    <tr>\n",
       "      <th>2022-01-07 00:00:00+01:00</th>\n",
       "      <td>2.749229</td>\n",
       "      <td>2022</td>\n",
       "      <td>16.215000</td>\n",
       "      <td>8751.799805</td>\n",
       "    </tr>\n",
       "    <tr>\n",
       "      <th>...</th>\n",
       "      <td>...</td>\n",
       "      <td>...</td>\n",
       "      <td>...</td>\n",
       "      <td>...</td>\n",
       "    </tr>\n",
       "    <tr>\n",
       "      <th>2023-12-21 00:00:00+01:00</th>\n",
       "      <td>3.635945</td>\n",
       "      <td>2023</td>\n",
       "      <td>14.345000</td>\n",
       "      <td>10104.299805</td>\n",
       "    </tr>\n",
       "    <tr>\n",
       "      <th>2023-12-22 00:00:00+01:00</th>\n",
       "      <td>3.650324</td>\n",
       "      <td>2023</td>\n",
       "      <td>14.280000</td>\n",
       "      <td>10111.900391</td>\n",
       "    </tr>\n",
       "    <tr>\n",
       "      <th>2023-12-27 00:00:00+01:00</th>\n",
       "      <td>3.652241</td>\n",
       "      <td>2023</td>\n",
       "      <td>14.180000</td>\n",
       "      <td>10121.799805</td>\n",
       "    </tr>\n",
       "    <tr>\n",
       "      <th>2023-12-28 00:00:00+01:00</th>\n",
       "      <td>3.630672</td>\n",
       "      <td>2023</td>\n",
       "      <td>14.230000</td>\n",
       "      <td>10086.200195</td>\n",
       "    </tr>\n",
       "    <tr>\n",
       "      <th>2023-12-29 00:00:00+01:00</th>\n",
       "      <td>3.623004</td>\n",
       "      <td>2023</td>\n",
       "      <td>15.455000</td>\n",
       "      <td>10102.099609</td>\n",
       "    </tr>\n",
       "  </tbody>\n",
       "</table>\n",
       "<p>512 rows × 4 columns</p>\n",
       "</div>"
      ],
      "text/plain": [
       "                           Santander   Año    Grifols          Ibex\n",
       "Date                                                               \n",
       "2022-01-03 00:00:00+01:00   2.606137  2022  16.740000   8761.200195\n",
       "2022-01-04 00:00:00+01:00   2.678566  2022  16.405001   8795.799805\n",
       "2022-01-05 00:00:00+01:00   2.682982  2022  16.139999   8790.799805\n",
       "2022-01-06 00:00:00+01:00   2.725380  2022  16.495001   8789.900391\n",
       "2022-01-07 00:00:00+01:00   2.749229  2022  16.215000   8751.799805\n",
       "...                              ...   ...        ...           ...\n",
       "2023-12-21 00:00:00+01:00   3.635945  2023  14.345000  10104.299805\n",
       "2023-12-22 00:00:00+01:00   3.650324  2023  14.280000  10111.900391\n",
       "2023-12-27 00:00:00+01:00   3.652241  2023  14.180000  10121.799805\n",
       "2023-12-28 00:00:00+01:00   3.630672  2023  14.230000  10086.200195\n",
       "2023-12-29 00:00:00+01:00   3.623004  2023  15.455000  10102.099609\n",
       "\n",
       "[512 rows x 4 columns]"
      ]
     },
     "metadata": {},
     "output_type": "display_data"
    }
   ],
   "source": [
    "#Utilizo la función concat para transformar los tres dataframes en uno único de cara a continuar con el análisis general de los datos\n",
    "Cotizaciones = pd.concat([santander_df, grifols_df, ibex_df], axis=1) #los concateno horizontalmente\n",
    "#Cambio el nombre a las columnas para identificar a que valor corresponde cada una.\n",
    "#Ahora cada columna hace referencia al precio de cierre de esa acción\n",
    "Cotizaciones.columns = ['Santander','Año', 'Grifols','Año', 'Ibex','Año']\n",
    "#Además, al reenombrar la columnas ahora puedo borrar las columnas 'Año' duplicadas quedandome únicamente con la primera que aparece\n",
    "Cotizaciones = Cotizaciones.loc[:, ~Cotizaciones.columns.duplicated()] #Es decir, selecciono todas las filas y las columnas no duplicadas (solo deja una copia de las repetidas)\n",
    "display(Cotizaciones)"
   ]
  },
  {
   "cell_type": "code",
   "execution_count": 16,
   "metadata": {
    "colab": {
     "base_uri": "https://localhost:8080/",
     "height": 300
    },
    "id": "VxYCuXo5Oi2W",
    "outputId": "8e4de40c-6a16-4df0-d28e-f4ef89f3d715"
   },
   "outputs": [
    {
     "data": {
      "text/html": [
       "<div>\n",
       "<style scoped>\n",
       "    .dataframe tbody tr th:only-of-type {\n",
       "        vertical-align: middle;\n",
       "    }\n",
       "\n",
       "    .dataframe tbody tr th {\n",
       "        vertical-align: top;\n",
       "    }\n",
       "\n",
       "    .dataframe thead th {\n",
       "        text-align: right;\n",
       "    }\n",
       "</style>\n",
       "<table border=\"1\" class=\"dataframe\">\n",
       "  <thead>\n",
       "    <tr style=\"text-align: right;\">\n",
       "      <th></th>\n",
       "      <th>Santander</th>\n",
       "      <th>Grifols</th>\n",
       "      <th>Ibex</th>\n",
       "    </tr>\n",
       "  </thead>\n",
       "  <tbody>\n",
       "    <tr>\n",
       "      <th>count</th>\n",
       "      <td>257.000000</td>\n",
       "      <td>257.000000</td>\n",
       "      <td>257.000000</td>\n",
       "    </tr>\n",
       "    <tr>\n",
       "      <th>mean</th>\n",
       "      <td>2.507592</td>\n",
       "      <td>14.238082</td>\n",
       "      <td>8258.861853</td>\n",
       "    </tr>\n",
       "    <tr>\n",
       "      <th>std</th>\n",
       "      <td>0.225397</td>\n",
       "      <td>3.436444</td>\n",
       "      <td>368.534271</td>\n",
       "    </tr>\n",
       "    <tr>\n",
       "      <th>min</th>\n",
       "      <td>2.103145</td>\n",
       "      <td>8.116000</td>\n",
       "      <td>7261.100098</td>\n",
       "    </tr>\n",
       "    <tr>\n",
       "      <th>25%</th>\n",
       "      <td>2.348775</td>\n",
       "      <td>10.770000</td>\n",
       "      <td>8055.600098</td>\n",
       "    </tr>\n",
       "    <tr>\n",
       "      <th>50%</th>\n",
       "      <td>2.483286</td>\n",
       "      <td>15.320000</td>\n",
       "      <td>8272.500000</td>\n",
       "    </tr>\n",
       "    <tr>\n",
       "      <th>75%</th>\n",
       "      <td>2.697556</td>\n",
       "      <td>16.730000</td>\n",
       "      <td>8511.900391</td>\n",
       "    </tr>\n",
       "    <tr>\n",
       "      <th>max</th>\n",
       "      <td>3.075162</td>\n",
       "      <td>19.950001</td>\n",
       "      <td>8933.599609</td>\n",
       "    </tr>\n",
       "  </tbody>\n",
       "</table>\n",
       "</div>"
      ],
      "text/plain": [
       "        Santander     Grifols         Ibex\n",
       "count  257.000000  257.000000   257.000000\n",
       "mean     2.507592   14.238082  8258.861853\n",
       "std      0.225397    3.436444   368.534271\n",
       "min      2.103145    8.116000  7261.100098\n",
       "25%      2.348775   10.770000  8055.600098\n",
       "50%      2.483286   15.320000  8272.500000\n",
       "75%      2.697556   16.730000  8511.900391\n",
       "max      3.075162   19.950001  8933.599609"
      ]
     },
     "execution_count": 16,
     "metadata": {},
     "output_type": "execute_result"
    }
   ],
   "source": [
    "#Aplico el filtro por año\n",
    "filtro = (Cotizaciones['Año']==2022)\n",
    "Cotizaciones_2022 = Cotizaciones[filtro]\n",
    "Cotizaciones_2022 = Cotizaciones_2022.loc[:,['Santander', 'Grifols', 'Ibex']]\n",
    "Cotizaciones_2022.describe()"
   ]
  },
  {
   "cell_type": "markdown",
   "metadata": {
    "id": "w36oeMGmRykV"
   },
   "source": [
    "Respecto al año 2022: El año bursátil se compuso de 257 días. Observando la media, podemos ver que los dos valores (Santander y Grifols) y el índice (Ibex) operan en escalas distintas. Santander a precios más bajos y Grifols ligeramente superiores. Por su parte, el Ibex cotiza en puntos al ser una suma ponderada de los 35 valores más líquidos del mercado bursátil español.\n",
    "\n",
    "En cuanto a la desviación típica, Grifols es más volátil debido a la industria a la que pertenece (farmaceutica). En esta línea, la menor distancia entre el máximo y el mínimo de Santander refuerza su estabilidad, mientras en Grifols (3,43-19,9) el rango es mucho más amplio de acuerdo con la mayor volatilidad de los precios. Por último, respecto a la mediana: en Santander (2,48) es cercana a la media, sin embargo en Grifols (15,32) dista ligeramente de la media que es inferior. Esto último, podría ser señal de la existencia de valores atípicos inferiores que sesgen la media hacia abajo (más adelante estudiaré este aspecto). Otro detalle interesante que se puede observar es la asimetría negativa que parece mostrar la distribución dado que la mediana está bastante más cerca del tercer cuartil que del primero."
   ]
  },
  {
   "cell_type": "code",
   "execution_count": 18,
   "metadata": {
    "colab": {
     "base_uri": "https://localhost:8080/",
     "height": 504
    },
    "id": "GBzC0-o2vIM2",
    "outputId": "75e73737-cfb9-4698-951d-96569c0f6d24"
   },
   "outputs": [
    {
     "data": {
      "text/plain": [
       "array([[<Axes: title={'center': 'Santander'}>,\n",
       "        <Axes: title={'center': 'Grifols'}>],\n",
       "       [<Axes: title={'center': 'Ibex'}>, <Axes: >]], dtype=object)"
      ]
     },
     "execution_count": 18,
     "metadata": {},
     "output_type": "execute_result"
    },
    {
     "data": {
      "image/png": "[encoded data removed]",
      "text/plain": [
       "<Figure size 640x480 with 4 Axes>"
      ]
     },
     "metadata": {},
     "output_type": "display_data"
    }
   ],
   "source": [
    "Cotizaciones_2022.hist()"
   ]
  },
  {
   "cell_type": "markdown",
   "metadata": {
    "id": "03Dp2TAm-J9n"
   },
   "source": [
    "Mirando los histogramas de la distribución de los precios de cierre en 2022 obtenemos:\n",
    "- Santander: parece tener una distribución sesgada hacia la derecha (asimetría positiva)\n",
    "- Grifols: distribución bimodal (dos picos, uno entorno al 10-12 y el otro al 16-18), más dispersión de los datos\n",
    "- Ibex: la disribución está sesgada a la izquierda (asimetría negativa)"
   ]
  },
  {
   "cell_type": "code",
   "execution_count": 20,
   "metadata": {
    "colab": {
     "base_uri": "https://localhost:8080/",
     "height": 300
    },
    "id": "rSM-HQxDPazf",
    "outputId": "97693c37-0771-4f59-8185-9584188a5dbc"
   },
   "outputs": [
    {
     "data": {
      "text/html": [
       "<div>\n",
       "<style scoped>\n",
       "    .dataframe tbody tr th:only-of-type {\n",
       "        vertical-align: middle;\n",
       "    }\n",
       "\n",
       "    .dataframe tbody tr th {\n",
       "        vertical-align: top;\n",
       "    }\n",
       "\n",
       "    .dataframe thead th {\n",
       "        text-align: right;\n",
       "    }\n",
       "</style>\n",
       "<table border=\"1\" class=\"dataframe\">\n",
       "  <thead>\n",
       "    <tr style=\"text-align: right;\">\n",
       "      <th></th>\n",
       "      <th>Santander</th>\n",
       "      <th>Grifols</th>\n",
       "      <th>Ibex</th>\n",
       "    </tr>\n",
       "  </thead>\n",
       "  <tbody>\n",
       "    <tr>\n",
       "      <th>count</th>\n",
       "      <td>255.000000</td>\n",
       "      <td>255.000000</td>\n",
       "      <td>255.000000</td>\n",
       "    </tr>\n",
       "    <tr>\n",
       "      <th>mean</th>\n",
       "      <td>3.225435</td>\n",
       "      <td>11.888184</td>\n",
       "      <td>9347.057629</td>\n",
       "    </tr>\n",
       "    <tr>\n",
       "      <th>std</th>\n",
       "      <td>0.243564</td>\n",
       "      <td>1.493981</td>\n",
       "      <td>341.219073</td>\n",
       "    </tr>\n",
       "    <tr>\n",
       "      <th>min</th>\n",
       "      <td>2.621308</td>\n",
       "      <td>8.412000</td>\n",
       "      <td>8369.700195</td>\n",
       "    </tr>\n",
       "    <tr>\n",
       "      <th>25%</th>\n",
       "      <td>3.013114</td>\n",
       "      <td>11.200000</td>\n",
       "      <td>9172.550293</td>\n",
       "    </tr>\n",
       "    <tr>\n",
       "      <th>50%</th>\n",
       "      <td>3.241793</td>\n",
       "      <td>12.125000</td>\n",
       "      <td>9314.400391</td>\n",
       "    </tr>\n",
       "    <tr>\n",
       "      <th>75%</th>\n",
       "      <td>3.370519</td>\n",
       "      <td>12.977500</td>\n",
       "      <td>9465.149902</td>\n",
       "    </tr>\n",
       "    <tr>\n",
       "      <th>max</th>\n",
       "      <td>3.792675</td>\n",
       "      <td>15.455000</td>\n",
       "      <td>10258.099609</td>\n",
       "    </tr>\n",
       "  </tbody>\n",
       "</table>\n",
       "</div>"
      ],
      "text/plain": [
       "        Santander     Grifols          Ibex\n",
       "count  255.000000  255.000000    255.000000\n",
       "mean     3.225435   11.888184   9347.057629\n",
       "std      0.243564    1.493981    341.219073\n",
       "min      2.621308    8.412000   8369.700195\n",
       "25%      3.013114   11.200000   9172.550293\n",
       "50%      3.241793   12.125000   9314.400391\n",
       "75%      3.370519   12.977500   9465.149902\n",
       "max      3.792675   15.455000  10258.099609"
      ]
     },
     "execution_count": 20,
     "metadata": {},
     "output_type": "execute_result"
    }
   ],
   "source": [
    "filtro2 = (Cotizaciones['Año']==2023)\n",
    "Cotizaciones_2023 = Cotizaciones[filtro2]\n",
    "Cotizaciones_2023 = Cotizaciones_2023.loc[:,['Santander', 'Grifols', 'Ibex']]\n",
    "Cotizaciones_2023.describe()"
   ]
  },
  {
   "cell_type": "markdown",
   "metadata": {
    "id": "cc2x6qX0NjnI"
   },
   "source": [
    "Respecto al año 2023: los días bursátiles fueron algunos menos, 255 días. No osbtante, en cuanto al resto del análisis, la interpretación se mantiene en la misma línea que el realizado para el ejercicio 2022. Destacando, una menor volatilidad en Grifols y una mayor concentración de los datos."
   ]
  },
  {
   "cell_type": "code",
   "execution_count": 22,
   "metadata": {
    "colab": {
     "base_uri": "https://localhost:8080/",
     "height": 504
    },
    "id": "18cB-7lI7rls",
    "outputId": "8ba5af14-dd91-4925-df61-95205693094f"
   },
   "outputs": [
    {
     "data": {
      "text/plain": [
       "array([[<Axes: title={'center': 'Santander'}>,\n",
       "        <Axes: title={'center': 'Grifols'}>],\n",
       "       [<Axes: title={'center': 'Ibex'}>, <Axes: >]], dtype=object)"
      ]
     },
     "execution_count": 22,
     "metadata": {},
     "output_type": "execute_result"
    },
    {
     "data": {
      "image/png": "[encoded data removed]",
      "text/plain": [
       "<Figure size 640x480 with 4 Axes>"
      ]
     },
     "metadata": {},
     "output_type": "display_data"
    }
   ],
   "source": [
    "Cotizaciones_2023.hist()"
   ]
  },
  {
   "cell_type": "markdown",
   "metadata": {
    "id": "zm3iCRSy_t5f"
   },
   "source": [
    "Mirando los histogramas de la distribución de los precios de cierre en 2023 obtenemos:\n",
    "- Santander: el rango de precios es superior a 2022 y con una mayor concentración.\n",
    "- Grifols: se observa como la volatilidad ha disminuido, aunque sigue pareciendo una bimodal.\n",
    "- Ibex: La disribución se asemeja más a una Normal, con un rango también superior que podría ser señal de recuperación del mercado dado que los otros dos valores (Santander y Grifols) también muestran una mejora en el desempeño.  "
   ]
  },
  {
   "cell_type": "markdown",
   "metadata": {
    "id": "zUTKdQhC1Gwk"
   },
   "source": [
    "3. Cálculo de Rendimientos"
   ]
  },
  {
   "cell_type": "code",
   "execution_count": 25,
   "metadata": {
    "colab": {
     "base_uri": "https://localhost:8080/"
    },
    "id": "GKfK6lhQfgij",
    "outputId": "55ee1744-d83f-482d-812d-977654644f5c"
   },
   "outputs": [
    {
     "name": "stdout",
     "output_type": "stream",
     "text": [
      "Santander    0\n",
      "Año          0\n",
      "Grifols      0\n",
      "Ibex         0\n",
      "dtype: int64\n"
     ]
    }
   ],
   "source": [
    "#Para saber si hay nulos a la hora de calcular el rendimiento\n",
    "print(Cotizaciones.isnull().sum())"
   ]
  },
  {
   "cell_type": "code",
   "execution_count": 26,
   "metadata": {
    "colab": {
     "base_uri": "https://localhost:8080/"
    },
    "id": "lzbOaUXd4d6U",
    "outputId": "284e9742-fef7-4a8b-e777-210678f729c1"
   },
   "outputs": [
    {
     "name": "stderr",
     "output_type": "stream",
     "text": [
      "C:\\Users\\usuario\\AppData\\Local\\Temp\\ipykernel_9160\\2375111955.py:4: DeprecationWarning: DataFrameGroupBy.apply operated on the grouping columns. This behavior is deprecated, and in a future version of pandas the grouping columns will be excluded from the operation. Either pass `include_groups=False` to exclude the groupings or explicitly select the grouping columns after groupby to silence this warning.\n",
      "  rendimiento_real_año = Cotizaciones.groupby('Año').apply(\n",
      "C:\\Users\\usuario\\AppData\\Local\\Temp\\ipykernel_9160\\2375111955.py:4: DeprecationWarning: DataFrameGroupBy.apply operated on the grouping columns. This behavior is deprecated, and in a future version of pandas the grouping columns will be excluded from the operation. Either pass `include_groups=False` to exclude the groupings or explicitly select the grouping columns after groupby to silence this warning.\n",
      "  rendimiento_real_año = Cotizaciones.groupby('Año').apply(\n",
      "C:\\Users\\usuario\\AppData\\Local\\Temp\\ipykernel_9160\\2375111955.py:4: DeprecationWarning: DataFrameGroupBy.apply operated on the grouping columns. This behavior is deprecated, and in a future version of pandas the grouping columns will be excluded from the operation. Either pass `include_groups=False` to exclude the groupings or explicitly select the grouping columns after groupby to silence this warning.\n",
      "  rendimiento_real_año = Cotizaciones.groupby('Año').apply(\n"
     ]
    }
   ],
   "source": [
    "#En primer lugar, calculo el rendimiento real para los tres activos\n",
    "#Defino una función para el cáculo del rendimiento real agrupando por año\n",
    "def rendimiento_real(Cotizaciones, Activo):\n",
    "  rendimiento_real_año = Cotizaciones.groupby('Año').apply(\n",
    "      lambda x: (x[Activo].iloc[-1] - x[Activo].iloc[0])/x[Activo].iloc[0]*100)\n",
    "  return rendimiento_real_año.round(1)\n",
    "\n",
    "rend_real_SAN = rendimiento_real(Cotizaciones, 'Santander')\n",
    "rend_real_GRF = rendimiento_real(Cotizaciones, 'Grifols')\n",
    "rend_real_IBX = rendimiento_real(Cotizaciones, 'Ibex')"
   ]
  },
  {
   "cell_type": "code",
   "execution_count": 27,
   "metadata": {
    "colab": {
     "base_uri": "https://localhost:8080/",
     "height": 507
    },
    "id": "iGfteDTx_fH_",
    "outputId": "7a84ca30-00c4-408e-a928-b57392364b1d"
   },
   "outputs": [
    {
     "data": {
      "image/png": "[encoded data removed]",
      "text/plain": [
       "<Figure size 500x500 with 1 Axes>"
      ]
     },
     "metadata": {},
     "output_type": "display_data"
    }
   ],
   "source": [
    "#Creo un gráfico para mostrar los rendimientos reales\n",
    "#Primero, agrupo en un único dataframe\n",
    "Gráfico_Rendimientos = pd.DataFrame({\n",
    "    'Santander': rend_real_SAN,\n",
    "    'Grifols': rend_real_GRF,\n",
    "    'Ibex': rend_real_IBX}).reset_index()\n",
    "\n",
    "Gráfico_Rendimientos.set_index('Año', inplace=True)\n",
    "\n",
    "#Gráfico (previamente instalada la libreria matplotlib.pylot)\n",
    "Graph = Gráfico_Rendimientos.plot(kind='bar', figsize=(5,5))\n",
    "#Le meto etiquetas de datos en las barras\n",
    "for contenedor in Graph.containers:\n",
    "  Graph.bar_label(contenedor, label_type='center')\n",
    "\n",
    "plt.title('Rendimientos Reales')\n",
    "plt.ylabel('Rendimiento (%)')\n",
    "plt.xlabel('Año')\n",
    "plt.legend\n",
    "plt.grid(axis='y')\n",
    "plt.tight_layout() #evitar que se solapen elementos en el gráfico\n",
    "plt.show()"
   ]
  },
  {
   "cell_type": "code",
   "execution_count": 28,
   "metadata": {
    "id": "MnIeH-UTq2PM"
   },
   "outputs": [],
   "source": [
    "#Ahora, calculo el rendimiento medio diario\n",
    "#Empiezo por el rendimiento diario\n",
    "def rendimiento_diario(Cotizaciones, Activo):\n",
    "  rendimiento_diario = Cotizaciones.groupby('Año')[Activo].pct_change()\n",
    "  return rendimiento_diario.round(5)\n",
    "\n",
    "Cotizaciones['Rendimiento Diario SAN'] = rendimiento_diario(Cotizaciones, 'Santander')\n",
    "Cotizaciones['Rendimiento Diario GRF'] = rendimiento_diario(Cotizaciones, 'Grifols')\n",
    "Cotizaciones['Rendimiento Diario IBX'] = rendimiento_diario(Cotizaciones, 'Ibex')\n",
    "\n",
    "#Promedio el rendimiento diario\n",
    "rend_diario_SAN = Cotizaciones.groupby('Año')['Rendimiento Diario SAN'].mean()\n",
    "rend_diario_GRF = Cotizaciones.groupby('Año')['Rendimiento Diario GRF'].mean()\n",
    "rend_diario_IBX = Cotizaciones.groupby('Año')['Rendimiento Diario IBX'].mean()\n",
    "\n",
    "#Lo anualizo\n",
    "def rendimiento_medio_anualizado(rend_diario, dias=252):\n",
    "  rendimiento_medio_anualizado = ((1+rend_diario) ** dias - 1) * 100\n",
    "  return rendimiento_medio_anualizado.round(1)\n",
    "\n",
    "rend_anual_SAN = rendimiento_medio_anualizado(rend_diario_SAN, dias=252)\n",
    "rend_anual_GRF = rendimiento_medio_anualizado(rend_diario_GRF, dias=252)\n",
    "rend_anual_IBX = rendimiento_medio_anualizado(rend_diario_IBX, dias=252)"
   ]
  },
  {
   "cell_type": "code",
   "execution_count": 29,
   "metadata": {
    "colab": {
     "base_uri": "https://localhost:8080/",
     "height": 507
    },
    "id": "PIOdfrxtkK5F",
    "outputId": "b6c76199-9e9f-43d6-f7ad-6a5d5bc18ecd"
   },
   "outputs": [
    {
     "data": {
      "image/png": "[encoded data removed]",
      "text/plain": [
       "<Figure size 500x500 with 1 Axes>"
      ]
     },
     "metadata": {},
     "output_type": "display_data"
    }
   ],
   "source": [
    "Gráfico_RendimientosAnual = pd.DataFrame({\n",
    "    'Santander': rend_anual_SAN,\n",
    "    'Grifols': rend_anual_GRF,\n",
    "    'Ibex': rend_anual_IBX}).reset_index()\n",
    "\n",
    "Gráfico_RendimientosAnual.set_index('Año', inplace=True)\n",
    "\n",
    "#Gráfico (previamente instalada la libreria matplotlib.pylot)\n",
    "Graph2 = Gráfico_RendimientosAnual.plot(kind='bar', figsize=(5,5))\n",
    "#Le meto etiquetas de datos en las barras\n",
    "for contenedor in Graph2.containers:\n",
    "  Graph2.bar_label(contenedor, label_type='center')\n",
    "\n",
    "plt.title('Rendimientos Anualizados')\n",
    "plt.ylabel('Rendimiento (%)')\n",
    "plt.xlabel('Año')\n",
    "plt.legend\n",
    "plt.grid(axis='y')\n",
    "plt.tight_layout() #evitar que se solapen elementos en el gráfico\n",
    "plt.show()"
   ]
  },
  {
   "cell_type": "markdown",
   "metadata": {
    "id": "iLcVqdlio8Pj"
   },
   "source": [
    "En esta tercera parte del proyecto, he querido calcular el rendimiento de los tres activos siguiendo dos tipos de métricas financieras. En primer lugar, el rendimiento real, que mide la variación porcentual entre el precio de cierre inicial y el precio de cierre final del valor de cada año. Por otra parte, la segunda métrica, el rendimiento anualizado tiene en cuenta todas las variaciones diarias promediandolas y mostrando el efecto compuesto a lo largo del año.\n",
    "\n",
    "En este sentido, se observa que con el cálculo de los rendimientos anualizados la magnitud del rendimiento negativo se suaviza mientras el rendimiento positivo, al reinvertirse en si mismo de manera compuesta, se intensifica.\n",
    "\n",
    "Es por ello, que los outliers negativos* presentes en la distribución de Grifols podrían tener un efecto mayor en el rendimiento real que en el anualizado al promediar el rendimiento y asumir un crecimiento constante. Se podría ver como en 2022 el rend.real de Grifols pasa de -35,7 a -27,5 como rend.anualizado, y en 2023 de 37,7 a 49,8. Sin embargo, en Santander, que es un activo con menor volatilidad el calculo anualizado tiende a estar mas cercano al calculo real.\n",
    "\n",
    "*outliers negativos = valores atípicamente inferiores"
   ]
  },
  {
   "cell_type": "markdown",
   "metadata": {
    "id": "lYT0Zf8bUryR"
   },
   "source": [
    "4. Estudio de Outliers"
   ]
  },
  {
   "cell_type": "markdown",
   "metadata": {
    "id": "PmOoIHoQcIDO"
   },
   "source": [
    "Como hemos analizando más arriba, en la distribución de Grifols, la media está por debajo de la mediana a cierta distancia. Lo que podría sugerir la existencia de precios de cierre puntualmente bajos responsables de sesgar la media hacia abajo. Sin embargo, en el año 2022, la elevada volatilidad también podría sugerir una mayor frecuencia de días en los que la cotización cayó más notablemente (ya no siendo puntuales).  \n",
    "\n",
    "Por ello, voy a analizar la distribución de ambos años en busca de concluir la existencia de valores atípicos en ambos años, en ninguno, o en uno de los dos."
   ]
  },
  {
   "cell_type": "code",
   "execution_count": 33,
   "metadata": {
    "colab": {
     "base_uri": "https://localhost:8080/"
    },
    "id": "7zRu-euubI-1",
    "outputId": "6e07fa3a-61db-41da-d23e-662efb5065f4"
   },
   "outputs": [
    {
     "name": "stdout",
     "output_type": "stream",
     "text": [
      "El coeficiente de asimetría de Grifols es -0.25 en 2022.\n",
      "Y -0.48 en 2023\n"
     ]
    }
   ],
   "source": [
    "Cotizaciones_2022.Grifols.skew()\n",
    "Cotizaciones_2023.Grifols.skew()\n",
    "print(f'El coeficiente de asimetría de Grifols es {Cotizaciones_2022.Grifols.skew().round(2)} en 2022.')\n",
    "print(f'Y {Cotizaciones_2023.Grifols.skew().round(2)} en 2023')"
   ]
  },
  {
   "cell_type": "code",
   "execution_count": 34,
   "metadata": {
    "colab": {
     "base_uri": "https://localhost:8080/"
    },
    "id": "ZEjJnl9HmI51",
    "outputId": "639a6995-e4ce-4029-d795-c1756ca51d46"
   },
   "outputs": [
    {
     "name": "stdout",
     "output_type": "stream",
     "text": [
      "El coeficiente de curtosis de Grifols es -1.16\n",
      "Y -0.42 en 2023\n"
     ]
    }
   ],
   "source": [
    "Cotizaciones_2022.Grifols.kurtosis()\n",
    "Cotizaciones_2023.Grifols.kurtosis()\n",
    "print(f'El coeficiente de curtosis de Grifols es {Cotizaciones_2022.Grifols.kurtosis().round(2)}')\n",
    "print(f'Y {Cotizaciones_2023.Grifols.kurtosis().round(2)} en 2023')"
   ]
  },
  {
   "cell_type": "markdown",
   "metadata": {
    "id": "pWGy6h2ypEt6"
   },
   "source": [
    "Conclusiones: En ambos años persiste la asimetria negativa, esto quiere decir que la media<mediana y que nos tendremos que preocupar por outliers a la izquierda (hacia los valores bajos). Por otro lado, en cuanto a la curtosis, los valores negativos indican que los valores extremos negativos no tienen tanto peso como cabria esperar en una distribución normal.  "
   ]
  },
  {
   "cell_type": "code",
   "execution_count": 36,
   "metadata": {
    "colab": {
     "base_uri": "https://localhost:8080/",
     "height": 507
    },
    "id": "Ddd99V3xIJGO",
    "outputId": "4b5e6045-52bb-4b69-924d-17de5d5ae918"
   },
   "outputs": [
    {
     "data": {
      "image/png": "[encoded data removed]",
      "text/plain": [
       "<Figure size 1000x500 with 2 Axes>"
      ]
     },
     "metadata": {},
     "output_type": "display_data"
    }
   ],
   "source": [
    "#Para hacer una figura con los dos gráficos juntos\n",
    "fig, axes = plt.subplots(1,2, figsize=(10,5))\n",
    "\n",
    "#Gráfico 1 = 2022\n",
    "sns.histplot(Cotizaciones_2022['Grifols'], bins=30, kde=True, color='skyblue', edgecolor='black', ax=axes[0])#Añado la curva de densidad (KDE)\n",
    "axes[0].axvline(Cotizaciones_2022.Grifols.mean(), color='red', label='Media')\n",
    "axes[0].axvline(Cotizaciones_2022.Grifols.median(), color='green', label = 'Mediana')\n",
    "axes[0].set_title('Distribución de precios de cierre (Grifols 2022)')\n",
    "axes[0].set_xlabel('Precio de cierre')\n",
    "axes[0].set_ylabel('Frecuencia')\n",
    "axes[0].legend()\n",
    "\n",
    "#Gráfico 2 = 2023\n",
    "sns.histplot(Cotizaciones_2023['Grifols'], bins=30, kde=True, color='lightblue', edgecolor='black', ax=axes[1])\n",
    "axes[1].axvline(Cotizaciones_2023.Grifols.mean(), color='red', label='Media')\n",
    "axes[1].axvline(Cotizaciones_2023.Grifols.median(), color='green', label = 'Mediana')\n",
    "axes[1].set_title('Distribución de precios de cierre (Grifols 2023)')\n",
    "axes[1].set_xlabel('Precio de cierre')\n",
    "axes[1].set_ylabel('Frecuencia')\n",
    "axes[1].legend()\n",
    "plt.tight_layout()\n",
    "plt.show()"
   ]
  },
  {
   "cell_type": "markdown",
   "metadata": {
    "id": "rHN5gKRtNuLn"
   },
   "source": [
    "Análisis de los histogramas (ambos distribución bimodal, sesgada a la izquierda):\n",
    "\n",
    "En primer lugar, la volatilidad fue superior en 2022 (3.43 vs 1.49 en 2023) mostrando un gráfico con más picos y un rango de precios más amplio (8-20) que en 2023, donde la distribución se observa más compacta. La mayor volatilidad en 2022, se reflejó no solo en un rango más amplio sino también en mayores frecuencias de precios de cierre inferiores. Es por ello, que viendo el histograma ahora se podría esperar menos la existencia de algún valor extremadamente bajo como reponsable de tirar de la media hacia abajo, y explicarlo por un mayor numero de dias en los que la cotización cayó, haciendo que la media fuera menor.\n",
    "\n",
    "Sin embargo, aun siendo muy parecida la distribución en 2023, es decir, los precios tienden a concentrarse en el lado superior pero con caídas ocasionales, podemos obtener conclusiones diferentes. En este caso, en los dos extremos se ven dos precios de cierre que se repitieron muy poco. El que está cercano a 8 tendría mas sentido en tanto en cuanto cuadraría con el hecho de que la media esté sesgada hacia abajo. No osbtante, el cercano a 15 visualmente podría dar más impresión de outlier por estar más alejado del conjunto de datos.  \n",
    "\n",
    "En este sentido, los precios deberán ser analizados con más detalle utilizando los boxplots basados en la mediana y los cuartiles:\n",
    "\n"
   ]
  },
  {
   "cell_type": "code",
   "execution_count": 38,
   "metadata": {
    "colab": {
     "base_uri": "https://localhost:8080/",
     "height": 507
    },
    "id": "ioscvQzbm_cg",
    "outputId": "5e263d7d-c21f-4af2-93b9-e7a5309032bb"
   },
   "outputs": [
    {
     "data": {
      "image/png": "[encoded data removed]",
      "text/plain": [
       "<Figure size 500x500 with 1 Axes>"
      ]
     },
     "metadata": {},
     "output_type": "display_data"
    }
   ],
   "source": [
    "#Hago un Boxplot para visualizar los valores extremos\n",
    "#En primer lugar, paso a formato largo mi dataframe original Cotizaciones para poder visualizar los datos en el Boxplot\n",
    "Cotizaciones_Flargo = Cotizaciones.melt(id_vars='Año', #columna que se mantiene igual\n",
    "                                       value_vars=['Grifols'], #columna que voy a pasar a formato largo convirtiendola en dos\n",
    "                                       var_name='Activo', #nombre de la columna nueva que he creado en formato largo que se rellena con 'Grifols'\n",
    "                                       value_name='Precio Cierre') #nombre de la columna nueva que contiene los precios de cierre de Grifols\n",
    "\n",
    "#Creo el Boxplot\n",
    "plt.figure(figsize=(5, 5))\n",
    "sns.boxplot(data=Cotizaciones_Flargo, x='Activo', y='Precio Cierre', hue='Año', notch=True, palette = 'pastel')\n",
    "plt.title(\"Boxplot Grifols\")\n",
    "plt.xlabel(\"Activo\")\n",
    "plt.ylabel(\"Precio de Cierre\")\n",
    "plt.legend(title=\"Año\")\n",
    "plt.grid(axis=\"y\", linestyle=\"--\", alpha = 0.7)\n",
    "plt.tight_layout()\n",
    "plt.show()"
   ]
  },
  {
   "cell_type": "markdown",
   "metadata": {
    "id": "iSQpXwtVBGD9"
   },
   "source": [
    "Gracias a la representación del Boxplot, concluyo que las suposiciones planteadas en el apartado anterior son correctas. Únicamente encontrando un valor atípico en el lado izquierdo de la distribución de los precios de cierre de Grifols en 2023. No obstante, haciendo el cálculo númerico se obtiene que  \n",
    "8,4 (valor mínimo) <  8,45 = Q1 - 1,5(Q3-Q1) y que 15,45 (valor max) < 15,62=Q3 + 1,5(Q3-Q1). Por lo tanto, el precio que veiamos en la derecha del histograma (15,45) no se considera outlier pues debería haber sido superior al límite, pero dada su cercanía no ha sido de extrañar haberlo planteado como tal.\n",
    "\n",
    "Por último, atendiendo a las características del Boxplot se puede corroborar todo lo que se ha ido comentado a lo largo del ejercicio de análisis: en 2022, la volatilidad fue mayor, la caja es mucho más grande indicando más dispersión en los precios de cierre. En el año 2023, además de haber habido más estabilidad, los precios de cierre fueron en promedio más bajos (mediana en el 12,1 versus 15,3 en 2022). Y, por último, basandonos en los notches de ambos boxplots vemos que las medianas no se superponen lo que indica que son significativamente diferentes. Y, por ende, podría concluir que las condiciones del mercado cambiaron entre 2022 (más volatilidad) y 2023 (más estabilidad)"
   ]
  },
  {
   "cell_type": "code",
   "execution_count": 40,
   "metadata": {
    "colab": {
     "base_uri": "https://localhost:8080/",
     "height": 424
    },
    "id": "a0bcioTsrYQb",
    "outputId": "6fc52abc-9c67-4c42-a203-7da162611727"
   },
   "outputs": [
    {
     "data": {
      "text/html": [
       "<div>\n",
       "<style scoped>\n",
       "    .dataframe tbody tr th:only-of-type {\n",
       "        vertical-align: middle;\n",
       "    }\n",
       "\n",
       "    .dataframe tbody tr th {\n",
       "        vertical-align: top;\n",
       "    }\n",
       "\n",
       "    .dataframe thead th {\n",
       "        text-align: right;\n",
       "    }\n",
       "</style>\n",
       "<table border=\"1\" class=\"dataframe\">\n",
       "  <thead>\n",
       "    <tr style=\"text-align: right;\">\n",
       "      <th></th>\n",
       "      <th>Año</th>\n",
       "      <th>Activo</th>\n",
       "      <th>Precio Cierre</th>\n",
       "    </tr>\n",
       "  </thead>\n",
       "  <tbody>\n",
       "    <tr>\n",
       "      <th>0</th>\n",
       "      <td>2022</td>\n",
       "      <td>Grifols</td>\n",
       "      <td>16.740000</td>\n",
       "    </tr>\n",
       "    <tr>\n",
       "      <th>1</th>\n",
       "      <td>2022</td>\n",
       "      <td>Grifols</td>\n",
       "      <td>16.405001</td>\n",
       "    </tr>\n",
       "    <tr>\n",
       "      <th>2</th>\n",
       "      <td>2022</td>\n",
       "      <td>Grifols</td>\n",
       "      <td>16.139999</td>\n",
       "    </tr>\n",
       "    <tr>\n",
       "      <th>3</th>\n",
       "      <td>2022</td>\n",
       "      <td>Grifols</td>\n",
       "      <td>16.495001</td>\n",
       "    </tr>\n",
       "    <tr>\n",
       "      <th>4</th>\n",
       "      <td>2022</td>\n",
       "      <td>Grifols</td>\n",
       "      <td>16.215000</td>\n",
       "    </tr>\n",
       "    <tr>\n",
       "      <th>...</th>\n",
       "      <td>...</td>\n",
       "      <td>...</td>\n",
       "      <td>...</td>\n",
       "    </tr>\n",
       "    <tr>\n",
       "      <th>507</th>\n",
       "      <td>2023</td>\n",
       "      <td>Grifols</td>\n",
       "      <td>14.345000</td>\n",
       "    </tr>\n",
       "    <tr>\n",
       "      <th>508</th>\n",
       "      <td>2023</td>\n",
       "      <td>Grifols</td>\n",
       "      <td>14.280000</td>\n",
       "    </tr>\n",
       "    <tr>\n",
       "      <th>509</th>\n",
       "      <td>2023</td>\n",
       "      <td>Grifols</td>\n",
       "      <td>14.180000</td>\n",
       "    </tr>\n",
       "    <tr>\n",
       "      <th>510</th>\n",
       "      <td>2023</td>\n",
       "      <td>Grifols</td>\n",
       "      <td>14.230000</td>\n",
       "    </tr>\n",
       "    <tr>\n",
       "      <th>511</th>\n",
       "      <td>2023</td>\n",
       "      <td>Grifols</td>\n",
       "      <td>15.455000</td>\n",
       "    </tr>\n",
       "  </tbody>\n",
       "</table>\n",
       "<p>512 rows × 3 columns</p>\n",
       "</div>"
      ],
      "text/plain": [
       "      Año   Activo  Precio Cierre\n",
       "0    2022  Grifols      16.740000\n",
       "1    2022  Grifols      16.405001\n",
       "2    2022  Grifols      16.139999\n",
       "3    2022  Grifols      16.495001\n",
       "4    2022  Grifols      16.215000\n",
       "..    ...      ...            ...\n",
       "507  2023  Grifols      14.345000\n",
       "508  2023  Grifols      14.280000\n",
       "509  2023  Grifols      14.180000\n",
       "510  2023  Grifols      14.230000\n",
       "511  2023  Grifols      15.455000\n",
       "\n",
       "[512 rows x 3 columns]"
      ]
     },
     "metadata": {},
     "output_type": "display_data"
    }
   ],
   "source": [
    "display(Cotizaciones_Flargo)"
   ]
  },
  {
   "cell_type": "markdown",
   "metadata": {
    "id": "piBRw4uEGv9-"
   },
   "source": [
    "# **SEGUNDA PARTE**: MACHINE LEARNING"
   ]
  },
  {
   "cell_type": "markdown",
   "metadata": {
    "id": "c5Bhw0raEcgI"
   },
   "source": [
    "\n",
    "1. Estudio la correlación entre variables para seleccionar la más adecuada como variable objetivo a predecir"
   ]
  },
  {
   "cell_type": "code",
   "execution_count": 43,
   "metadata": {
    "colab": {
     "base_uri": "https://localhost:8080/",
     "height": 452
    },
    "id": "9zR2of5-E0gU",
    "outputId": "075c7cee-b2f3-42c5-d42c-57f48e1d6121"
   },
   "outputs": [
    {
     "data": {
      "image/png": "[encoded data removed]",
      "text/plain": [
       "<Figure size 640x480 with 2 Axes>"
      ]
     },
     "metadata": {},
     "output_type": "display_data"
    }
   ],
   "source": [
    "Cotizaciones_SGI = Cotizaciones[['Grifols', 'Santander', 'Ibex']]#Me quedo solo con las columnas de precio de cierre de los 3 Activos\n",
    "correlation_matrix = Cotizaciones_SGI.corr()\n",
    "\n",
    "sns.heatmap(correlation_matrix, annot=True, cmap=\"coolwarm\")\n",
    "plt.title(\"Matriz de correlación Activos\")\n",
    "plt.show()"
   ]
  },
  {
   "cell_type": "markdown",
   "metadata": {
    "id": "pfw01BcGKIlN"
   },
   "source": [
    "Se concluye que Santander y el Ibex tienen una correlación muy fuerte (0,94), lo que quiere decir que ambos activos tienden a moverse de manera muy similar. Lo cual tiene sentido pues Santander es de los activos que mayor peso tienen dentro del Índice.\n",
    "\n",
    "Por lo tanto, voy a usar el Ibex como predictor para Santander.  "
   ]
  },
  {
   "cell_type": "markdown",
   "metadata": {
    "id": "U8YnadlBkwPP"
   },
   "source": [
    "**Aprendizaje Supervisado: Modelo de regresión lineal para predecir los precios de cierre de Santander 2023**\n",
    "\n",
    "0. Para ello antes debo transformar el dataframe y prepararlo para que sea más fácil utilizarlo\n"
   ]
  },
  {
   "cell_type": "code",
   "execution_count": 46,
   "metadata": {
    "colab": {
     "base_uri": "https://localhost:8080/"
    },
    "id": "PKWZ4w-dmNnZ",
    "outputId": "4abe1b8f-d8c6-4ee7-9dc7-54cc1aefc836"
   },
   "outputs": [
    {
     "data": {
      "text/plain": [
       "{'01-03',\n",
       " '01-04',\n",
       " '01-05',\n",
       " '01-06',\n",
       " '01-10',\n",
       " '01-11',\n",
       " '01-12',\n",
       " '01-13',\n",
       " '01-17',\n",
       " '01-18',\n",
       " '01-19',\n",
       " '01-20',\n",
       " '01-24',\n",
       " '01-25',\n",
       " '01-26',\n",
       " '01-27',\n",
       " '01-31',\n",
       " '02-01',\n",
       " '02-02',\n",
       " '02-03',\n",
       " '02-07',\n",
       " '02-08',\n",
       " '02-09',\n",
       " '02-10',\n",
       " '02-14',\n",
       " '02-15',\n",
       " '02-16',\n",
       " '02-17',\n",
       " '02-21',\n",
       " '02-22',\n",
       " '02-23',\n",
       " '02-24',\n",
       " '02-28',\n",
       " '03-01',\n",
       " '03-02',\n",
       " '03-03',\n",
       " '03-07',\n",
       " '03-08',\n",
       " '03-09',\n",
       " '03-10',\n",
       " '03-14',\n",
       " '03-15',\n",
       " '03-16',\n",
       " '03-17',\n",
       " '03-21',\n",
       " '03-22',\n",
       " '03-23',\n",
       " '03-24',\n",
       " '03-28',\n",
       " '03-29',\n",
       " '03-30',\n",
       " '03-31',\n",
       " '04-04',\n",
       " '04-05',\n",
       " '04-06',\n",
       " '04-11',\n",
       " '04-12',\n",
       " '04-13',\n",
       " '04-14',\n",
       " '04-19',\n",
       " '04-20',\n",
       " '04-21',\n",
       " '04-25',\n",
       " '04-26',\n",
       " '04-27',\n",
       " '04-28',\n",
       " '05-02',\n",
       " '05-03',\n",
       " '05-04',\n",
       " '05-05',\n",
       " '05-09',\n",
       " '05-10',\n",
       " '05-11',\n",
       " '05-12',\n",
       " '05-16',\n",
       " '05-17',\n",
       " '05-18',\n",
       " '05-19',\n",
       " '05-23',\n",
       " '05-24',\n",
       " '05-25',\n",
       " '05-26',\n",
       " '05-30',\n",
       " '05-31',\n",
       " '06-01',\n",
       " '06-02',\n",
       " '06-06',\n",
       " '06-07',\n",
       " '06-08',\n",
       " '06-09',\n",
       " '06-13',\n",
       " '06-14',\n",
       " '06-15',\n",
       " '06-16',\n",
       " '06-20',\n",
       " '06-21',\n",
       " '06-22',\n",
       " '06-23',\n",
       " '06-27',\n",
       " '06-28',\n",
       " '06-29',\n",
       " '06-30',\n",
       " '07-04',\n",
       " '07-05',\n",
       " '07-06',\n",
       " '07-07',\n",
       " '07-11',\n",
       " '07-12',\n",
       " '07-13',\n",
       " '07-14',\n",
       " '07-18',\n",
       " '07-19',\n",
       " '07-20',\n",
       " '07-21',\n",
       " '07-25',\n",
       " '07-26',\n",
       " '07-27',\n",
       " '07-28',\n",
       " '08-01',\n",
       " '08-02',\n",
       " '08-03',\n",
       " '08-04',\n",
       " '08-08',\n",
       " '08-09',\n",
       " '08-10',\n",
       " '08-11',\n",
       " '08-15',\n",
       " '08-16',\n",
       " '08-17',\n",
       " '08-18',\n",
       " '08-22',\n",
       " '08-23',\n",
       " '08-24',\n",
       " '08-25',\n",
       " '08-29',\n",
       " '08-30',\n",
       " '08-31',\n",
       " '09-01',\n",
       " '09-05',\n",
       " '09-06',\n",
       " '09-07',\n",
       " '09-08',\n",
       " '09-12',\n",
       " '09-13',\n",
       " '09-14',\n",
       " '09-15',\n",
       " '09-19',\n",
       " '09-20',\n",
       " '09-21',\n",
       " '09-22',\n",
       " '09-26',\n",
       " '09-27',\n",
       " '09-28',\n",
       " '09-29',\n",
       " '10-03',\n",
       " '10-04',\n",
       " '10-05',\n",
       " '10-06',\n",
       " '10-10',\n",
       " '10-11',\n",
       " '10-12',\n",
       " '10-13',\n",
       " '10-17',\n",
       " '10-18',\n",
       " '10-19',\n",
       " '10-20',\n",
       " '10-24',\n",
       " '10-25',\n",
       " '10-26',\n",
       " '10-27',\n",
       " '10-31',\n",
       " '11-01',\n",
       " '11-02',\n",
       " '11-03',\n",
       " '11-07',\n",
       " '11-08',\n",
       " '11-09',\n",
       " '11-10',\n",
       " '11-14',\n",
       " '11-15',\n",
       " '11-16',\n",
       " '11-17',\n",
       " '11-21',\n",
       " '11-22',\n",
       " '11-23',\n",
       " '11-24',\n",
       " '11-28',\n",
       " '11-29',\n",
       " '11-30',\n",
       " '12-01',\n",
       " '12-05',\n",
       " '12-06',\n",
       " '12-07',\n",
       " '12-08',\n",
       " '12-12',\n",
       " '12-13',\n",
       " '12-14',\n",
       " '12-15',\n",
       " '12-19',\n",
       " '12-20',\n",
       " '12-21',\n",
       " '12-22',\n",
       " '12-27',\n",
       " '12-28',\n",
       " '12-29'}"
      ]
     },
     "execution_count": 46,
     "metadata": {},
     "output_type": "execute_result"
    }
   ],
   "source": [
    "#En primer lugar, como cada año bursátil es diferente, para homogeneizar y tener columnas con los mismos registros, voy a extraer las fechas comunes.\n",
    "#Importante, centrandome en el día y mes, ignorando el año para hacerlas coincidir\n",
    "fechas_2022 = Cotizaciones[ Cotizaciones['Año'] == 2022 ].index.strftime('%m-%d')\n",
    "fechas_2023 = Cotizaciones[ Cotizaciones['Año'] == 2023 ].index.strftime('%m-%d')\n",
    "fechas_comunes = set(fechas_2022).intersection(set(fechas_2023))\n",
    "fechas_comunes"
   ]
  },
  {
   "cell_type": "code",
   "execution_count": 47,
   "metadata": {
    "colab": {
     "base_uri": "https://localhost:8080/",
     "height": 455
    },
    "id": "byE7tmp0yiKX",
    "outputId": "ae1a686a-a5ac-4979-9a7c-a7a73f9f3a99"
   },
   "outputs": [
    {
     "data": {
      "text/html": [
       "<div>\n",
       "<style scoped>\n",
       "    .dataframe tbody tr th:only-of-type {\n",
       "        vertical-align: middle;\n",
       "    }\n",
       "\n",
       "    .dataframe tbody tr th {\n",
       "        vertical-align: top;\n",
       "    }\n",
       "\n",
       "    .dataframe thead th {\n",
       "        text-align: right;\n",
       "    }\n",
       "</style>\n",
       "<table border=\"1\" class=\"dataframe\">\n",
       "  <thead>\n",
       "    <tr style=\"text-align: right;\">\n",
       "      <th></th>\n",
       "      <th>Santander</th>\n",
       "      <th>Año</th>\n",
       "      <th>Grifols</th>\n",
       "      <th>Ibex</th>\n",
       "      <th>Rendimiento Diario SAN</th>\n",
       "      <th>Rendimiento Diario GRF</th>\n",
       "      <th>Rendimiento Diario IBX</th>\n",
       "      <th>Días Bursátiles</th>\n",
       "    </tr>\n",
       "    <tr>\n",
       "      <th>Date</th>\n",
       "      <th></th>\n",
       "      <th></th>\n",
       "      <th></th>\n",
       "      <th></th>\n",
       "      <th></th>\n",
       "      <th></th>\n",
       "      <th></th>\n",
       "      <th></th>\n",
       "    </tr>\n",
       "  </thead>\n",
       "  <tbody>\n",
       "    <tr>\n",
       "      <th>2022-01-03 00:00:00+01:00</th>\n",
       "      <td>2.606137</td>\n",
       "      <td>2022</td>\n",
       "      <td>16.740000</td>\n",
       "      <td>8761.200195</td>\n",
       "      <td>NaN</td>\n",
       "      <td>NaN</td>\n",
       "      <td>NaN</td>\n",
       "      <td>01-03</td>\n",
       "    </tr>\n",
       "    <tr>\n",
       "      <th>2022-01-04 00:00:00+01:00</th>\n",
       "      <td>2.678566</td>\n",
       "      <td>2022</td>\n",
       "      <td>16.405001</td>\n",
       "      <td>8795.799805</td>\n",
       "      <td>0.02779</td>\n",
       "      <td>-0.02001</td>\n",
       "      <td>0.00395</td>\n",
       "      <td>01-04</td>\n",
       "    </tr>\n",
       "    <tr>\n",
       "      <th>2022-01-05 00:00:00+01:00</th>\n",
       "      <td>2.682982</td>\n",
       "      <td>2022</td>\n",
       "      <td>16.139999</td>\n",
       "      <td>8790.799805</td>\n",
       "      <td>0.00165</td>\n",
       "      <td>-0.01615</td>\n",
       "      <td>-0.00057</td>\n",
       "      <td>01-05</td>\n",
       "    </tr>\n",
       "    <tr>\n",
       "      <th>2022-01-06 00:00:00+01:00</th>\n",
       "      <td>2.725380</td>\n",
       "      <td>2022</td>\n",
       "      <td>16.495001</td>\n",
       "      <td>8789.900391</td>\n",
       "      <td>0.01580</td>\n",
       "      <td>0.02200</td>\n",
       "      <td>-0.00010</td>\n",
       "      <td>01-06</td>\n",
       "    </tr>\n",
       "    <tr>\n",
       "      <th>2022-01-10 00:00:00+01:00</th>\n",
       "      <td>2.751878</td>\n",
       "      <td>2022</td>\n",
       "      <td>16.549999</td>\n",
       "      <td>8706.900391</td>\n",
       "      <td>0.00096</td>\n",
       "      <td>0.02066</td>\n",
       "      <td>-0.00513</td>\n",
       "      <td>01-10</td>\n",
       "    </tr>\n",
       "    <tr>\n",
       "      <th>...</th>\n",
       "      <td>...</td>\n",
       "      <td>...</td>\n",
       "      <td>...</td>\n",
       "      <td>...</td>\n",
       "      <td>...</td>\n",
       "      <td>...</td>\n",
       "      <td>...</td>\n",
       "      <td>...</td>\n",
       "    </tr>\n",
       "    <tr>\n",
       "      <th>2023-12-21 00:00:00+01:00</th>\n",
       "      <td>3.635945</td>\n",
       "      <td>2023</td>\n",
       "      <td>14.345000</td>\n",
       "      <td>10104.299805</td>\n",
       "      <td>0.00106</td>\n",
       "      <td>-0.01171</td>\n",
       "      <td>0.00033</td>\n",
       "      <td>12-21</td>\n",
       "    </tr>\n",
       "    <tr>\n",
       "      <th>2023-12-22 00:00:00+01:00</th>\n",
       "      <td>3.650324</td>\n",
       "      <td>2023</td>\n",
       "      <td>14.280000</td>\n",
       "      <td>10111.900391</td>\n",
       "      <td>0.00395</td>\n",
       "      <td>-0.00453</td>\n",
       "      <td>0.00075</td>\n",
       "      <td>12-22</td>\n",
       "    </tr>\n",
       "    <tr>\n",
       "      <th>2023-12-27 00:00:00+01:00</th>\n",
       "      <td>3.652241</td>\n",
       "      <td>2023</td>\n",
       "      <td>14.180000</td>\n",
       "      <td>10121.799805</td>\n",
       "      <td>0.00053</td>\n",
       "      <td>-0.00700</td>\n",
       "      <td>0.00098</td>\n",
       "      <td>12-27</td>\n",
       "    </tr>\n",
       "    <tr>\n",
       "      <th>2023-12-28 00:00:00+01:00</th>\n",
       "      <td>3.630672</td>\n",
       "      <td>2023</td>\n",
       "      <td>14.230000</td>\n",
       "      <td>10086.200195</td>\n",
       "      <td>-0.00591</td>\n",
       "      <td>0.00353</td>\n",
       "      <td>-0.00352</td>\n",
       "      <td>12-28</td>\n",
       "    </tr>\n",
       "    <tr>\n",
       "      <th>2023-12-29 00:00:00+01:00</th>\n",
       "      <td>3.623004</td>\n",
       "      <td>2023</td>\n",
       "      <td>15.455000</td>\n",
       "      <td>10102.099609</td>\n",
       "      <td>-0.00211</td>\n",
       "      <td>0.08609</td>\n",
       "      <td>0.00158</td>\n",
       "      <td>12-29</td>\n",
       "    </tr>\n",
       "  </tbody>\n",
       "</table>\n",
       "<p>410 rows × 8 columns</p>\n",
       "</div>"
      ],
      "text/plain": [
       "                           Santander   Año    Grifols          Ibex  \\\n",
       "Date                                                                  \n",
       "2022-01-03 00:00:00+01:00   2.606137  2022  16.740000   8761.200195   \n",
       "2022-01-04 00:00:00+01:00   2.678566  2022  16.405001   8795.799805   \n",
       "2022-01-05 00:00:00+01:00   2.682982  2022  16.139999   8790.799805   \n",
       "2022-01-06 00:00:00+01:00   2.725380  2022  16.495001   8789.900391   \n",
       "2022-01-10 00:00:00+01:00   2.751878  2022  16.549999   8706.900391   \n",
       "...                              ...   ...        ...           ...   \n",
       "2023-12-21 00:00:00+01:00   3.635945  2023  14.345000  10104.299805   \n",
       "2023-12-22 00:00:00+01:00   3.650324  2023  14.280000  10111.900391   \n",
       "2023-12-27 00:00:00+01:00   3.652241  2023  14.180000  10121.799805   \n",
       "2023-12-28 00:00:00+01:00   3.630672  2023  14.230000  10086.200195   \n",
       "2023-12-29 00:00:00+01:00   3.623004  2023  15.455000  10102.099609   \n",
       "\n",
       "                           Rendimiento Diario SAN  Rendimiento Diario GRF  \\\n",
       "Date                                                                        \n",
       "2022-01-03 00:00:00+01:00                     NaN                     NaN   \n",
       "2022-01-04 00:00:00+01:00                 0.02779                -0.02001   \n",
       "2022-01-05 00:00:00+01:00                 0.00165                -0.01615   \n",
       "2022-01-06 00:00:00+01:00                 0.01580                 0.02200   \n",
       "2022-01-10 00:00:00+01:00                 0.00096                 0.02066   \n",
       "...                                           ...                     ...   \n",
       "2023-12-21 00:00:00+01:00                 0.00106                -0.01171   \n",
       "2023-12-22 00:00:00+01:00                 0.00395                -0.00453   \n",
       "2023-12-27 00:00:00+01:00                 0.00053                -0.00700   \n",
       "2023-12-28 00:00:00+01:00                -0.00591                 0.00353   \n",
       "2023-12-29 00:00:00+01:00                -0.00211                 0.08609   \n",
       "\n",
       "                           Rendimiento Diario IBX Días Bursátiles  \n",
       "Date                                                               \n",
       "2022-01-03 00:00:00+01:00                     NaN           01-03  \n",
       "2022-01-04 00:00:00+01:00                 0.00395           01-04  \n",
       "2022-01-05 00:00:00+01:00                -0.00057           01-05  \n",
       "2022-01-06 00:00:00+01:00                -0.00010           01-06  \n",
       "2022-01-10 00:00:00+01:00                -0.00513           01-10  \n",
       "...                                           ...             ...  \n",
       "2023-12-21 00:00:00+01:00                 0.00033           12-21  \n",
       "2023-12-22 00:00:00+01:00                 0.00075           12-22  \n",
       "2023-12-27 00:00:00+01:00                 0.00098           12-27  \n",
       "2023-12-28 00:00:00+01:00                -0.00352           12-28  \n",
       "2023-12-29 00:00:00+01:00                 0.00158           12-29  \n",
       "\n",
       "[410 rows x 8 columns]"
      ]
     },
     "metadata": {},
     "output_type": "display_data"
    }
   ],
   "source": [
    "#Creo una nueva columna con las fechas comunes extraídas\n",
    "Cotizaciones ['Días Bursátiles'] = Cotizaciones.index.strftime('%m-%d')\n",
    "Cotizaciones_ML = Cotizaciones[Cotizaciones['Días Bursátiles'].isin(fechas_comunes)]\n",
    "display(Cotizaciones_ML)"
   ]
  },
  {
   "cell_type": "code",
   "execution_count": 48,
   "metadata": {
    "colab": {
     "base_uri": "https://localhost:8080/",
     "height": 455
    },
    "id": "Ui9mko7qxb50",
    "outputId": "be995234-911a-4c3d-ff24-80036a13eb8b"
   },
   "outputs": [
    {
     "data": {
      "text/html": [
       "<div>\n",
       "<style scoped>\n",
       "    .dataframe tbody tr th:only-of-type {\n",
       "        vertical-align: middle;\n",
       "    }\n",
       "\n",
       "    .dataframe tbody tr th {\n",
       "        vertical-align: top;\n",
       "    }\n",
       "\n",
       "    .dataframe thead th {\n",
       "        text-align: right;\n",
       "    }\n",
       "</style>\n",
       "<table border=\"1\" class=\"dataframe\">\n",
       "  <thead>\n",
       "    <tr style=\"text-align: right;\">\n",
       "      <th></th>\n",
       "      <th>Ibex_2022</th>\n",
       "      <th>Ibex_2023</th>\n",
       "      <th>Santander_2022</th>\n",
       "      <th>Santander_2023</th>\n",
       "    </tr>\n",
       "    <tr>\n",
       "      <th>Días Bursátiles</th>\n",
       "      <th></th>\n",
       "      <th></th>\n",
       "      <th></th>\n",
       "      <th></th>\n",
       "    </tr>\n",
       "  </thead>\n",
       "  <tbody>\n",
       "    <tr>\n",
       "      <th>01-03</th>\n",
       "      <td>8761.200195</td>\n",
       "      <td>8397.400391</td>\n",
       "      <td>2.606137</td>\n",
       "      <td>2.628207</td>\n",
       "    </tr>\n",
       "    <tr>\n",
       "      <th>01-04</th>\n",
       "      <td>8795.799805</td>\n",
       "      <td>8559.799805</td>\n",
       "      <td>2.678566</td>\n",
       "      <td>2.725719</td>\n",
       "    </tr>\n",
       "    <tr>\n",
       "      <th>01-05</th>\n",
       "      <td>8790.799805</td>\n",
       "      <td>8607.599609</td>\n",
       "      <td>2.682982</td>\n",
       "      <td>2.735838</td>\n",
       "    </tr>\n",
       "    <tr>\n",
       "      <th>01-06</th>\n",
       "      <td>8789.900391</td>\n",
       "      <td>8701.099609</td>\n",
       "      <td>2.725380</td>\n",
       "      <td>2.802532</td>\n",
       "    </tr>\n",
       "    <tr>\n",
       "      <th>01-10</th>\n",
       "      <td>8706.900391</td>\n",
       "      <td>8712.700195</td>\n",
       "      <td>2.751878</td>\n",
       "      <td>2.792872</td>\n",
       "    </tr>\n",
       "    <tr>\n",
       "      <th>...</th>\n",
       "      <td>...</td>\n",
       "      <td>...</td>\n",
       "      <td>...</td>\n",
       "      <td>...</td>\n",
       "    </tr>\n",
       "    <tr>\n",
       "      <th>12-21</th>\n",
       "      <td>8302.299805</td>\n",
       "      <td>10104.299805</td>\n",
       "      <td>2.620388</td>\n",
       "      <td>3.635945</td>\n",
       "    </tr>\n",
       "    <tr>\n",
       "      <th>12-22</th>\n",
       "      <td>8272.099609</td>\n",
       "      <td>10111.900391</td>\n",
       "      <td>2.584511</td>\n",
       "      <td>3.650324</td>\n",
       "    </tr>\n",
       "    <tr>\n",
       "      <th>12-27</th>\n",
       "      <td>8270.099609</td>\n",
       "      <td>10121.799805</td>\n",
       "      <td>2.589571</td>\n",
       "      <td>3.652241</td>\n",
       "    </tr>\n",
       "    <tr>\n",
       "      <th>12-28</th>\n",
       "      <td>8258.500000</td>\n",
       "      <td>10086.200195</td>\n",
       "      <td>2.573932</td>\n",
       "      <td>3.630672</td>\n",
       "    </tr>\n",
       "    <tr>\n",
       "      <th>12-29</th>\n",
       "      <td>8318.299805</td>\n",
       "      <td>10102.099609</td>\n",
       "      <td>2.592330</td>\n",
       "      <td>3.623004</td>\n",
       "    </tr>\n",
       "  </tbody>\n",
       "</table>\n",
       "<p>205 rows × 4 columns</p>\n",
       "</div>"
      ],
      "text/plain": [
       "                   Ibex_2022     Ibex_2023  Santander_2022  Santander_2023\n",
       "Días Bursátiles                                                           \n",
       "01-03            8761.200195   8397.400391        2.606137        2.628207\n",
       "01-04            8795.799805   8559.799805        2.678566        2.725719\n",
       "01-05            8790.799805   8607.599609        2.682982        2.735838\n",
       "01-06            8789.900391   8701.099609        2.725380        2.802532\n",
       "01-10            8706.900391   8712.700195        2.751878        2.792872\n",
       "...                      ...           ...             ...             ...\n",
       "12-21            8302.299805  10104.299805        2.620388        3.635945\n",
       "12-22            8272.099609  10111.900391        2.584511        3.650324\n",
       "12-27            8270.099609  10121.799805        2.589571        3.652241\n",
       "12-28            8258.500000  10086.200195        2.573932        3.630672\n",
       "12-29            8318.299805  10102.099609        2.592330        3.623004\n",
       "\n",
       "[205 rows x 4 columns]"
      ]
     },
     "metadata": {},
     "output_type": "display_data"
    }
   ],
   "source": [
    "#Buscando he encontrado la función .pivot_table que me ayudará a reorganizar la información de mi dataframe\n",
    "#El indice del df van a ser las fechas comunes, separo por años las columnas y relleno con los valores de los activos\n",
    "Cotizaciones_MLNew = Cotizaciones_ML.pivot_table(index='Días Bursátiles', columns='Año', values=['Santander', 'Ibex'])\n",
    "Cotizaciones_MLNew.columns = [f\"{col[0]}_{col[1]}\" for col in Cotizaciones_MLNew.columns]\n",
    "#Aunque no debería porque me he quedado con las fechas comunes, por si a caso hubiera algún nulo, lo elimino así:\n",
    "Cotizaciones_MLNew.dropna(inplace=True)\n",
    "display(Cotizaciones_MLNew)"
   ]
  },
  {
   "cell_type": "markdown",
   "metadata": {
    "id": "-jHetiN74ZNe"
   },
   "source": [
    "1. Separar las columnas en las variables X, y en Y que será la etiqueta.\n",
    "\n",
    "Objetivo: deducir la columna Santander 2023 (etiqueta) desde las disponibles en el dataframe (variables x)."
   ]
  },
  {
   "cell_type": "code",
   "execution_count": 50,
   "metadata": {
    "id": "55tVpulI45aM"
   },
   "outputs": [],
   "source": [
    "yColumn = 'Santander_2023'\n",
    "\n",
    "XColumns = ['Ibex_2022', 'Ibex_2023', 'Santander_2022']\n",
    "\n",
    "X = Cotizaciones_MLNew[XColumns]\n",
    "y = Cotizaciones_MLNew[yColumn]\n"
   ]
  },
  {
   "cell_type": "markdown",
   "metadata": {
    "id": "jNqqp4KZ5wFs"
   },
   "source": [
    "2. Dividir las columnas x e y, en train y test."
   ]
  },
  {
   "cell_type": "code",
   "execution_count": 52,
   "metadata": {
    "id": "7mZhj9PK53Od"
   },
   "outputs": [],
   "source": [
    "from sklearn.model_selection import train_test_split\n",
    "\n",
    "test = 0.4 #El 40% de los datos se usará para el conjunto de prueba y el 60% restante para entrenar al modelo\n",
    "X_train, X_test, y_train, y_test = train_test_split(X, y, test_size= test)"
   ]
  },
  {
   "cell_type": "markdown",
   "metadata": {
    "id": "aGZ-n5zn6cdS"
   },
   "source": [
    "3.  Declarar el método y  entrenar con el conjunto train, obteniendo un modelo"
   ]
  },
  {
   "cell_type": "code",
   "execution_count": 54,
   "metadata": {
    "id": "qe4RF6K26hVA"
   },
   "outputs": [],
   "source": [
    "#Modelo de Regresión Lineal\n",
    "from sklearn.linear_model import LinearRegression\n",
    "metodo = LinearRegression()\n",
    "modelo = metodo.fit(X_train,y_train)"
   ]
  },
  {
   "cell_type": "code",
   "execution_count": 55,
   "metadata": {
    "colab": {
     "base_uri": "https://localhost:8080/"
    },
    "id": "gTqJ-JsLLrDa",
    "outputId": "71e84703-b384-4a63-cde2-387e47c4dc0f"
   },
   "outputs": [
    {
     "data": {
      "text/plain": [
       "(-0.3239228383602253,\n",
       " array([-3.15688288e-04,  5.67361593e-04,  3.37142647e-01]))"
      ]
     },
     "execution_count": 55,
     "metadata": {},
     "output_type": "execute_result"
    }
   ],
   "source": [
    "modelo.intercept_, modelo.coef_"
   ]
  },
  {
   "cell_type": "markdown",
   "metadata": {
    "id": "F_qSoMroO_do"
   },
   "source": [
    "Con los datos resultantes de mi ejecución (-0.3650129759194729, array([-0.00027585,  0.00055692,  0.26441741])), la fórmula de la regresión lineal sería tal que así: SAN23 = -0.365 + (-0.0002Ibx22 + 0.0005Ibx23 + 0.264San22)\n",
    "\n",
    "Entonces, de los coeficientes asociados a las variables predictorias concluimos que: por cada aumento unitario del precio de cierre de SAN22, el precio para 2023 aumenta en 0.26, manteniendo una relación positiva al igual que con el Ibex23 (SAN 23 aumentaría en 0.00055). Por el contrario, el cociente del Ibex22 supone una relación negativa (ante un aumento de este, el precio de SAN23 disiminuiría en 0.0002)"
   ]
  },
  {
   "cell_type": "markdown",
   "metadata": {
    "id": "D0ybm2CmMYbh"
   },
   "source": [
    "4. Por último, la fase de evaluación. Predecimos con el test y mostramos el error"
   ]
  },
  {
   "cell_type": "code",
   "execution_count": 58,
   "metadata": {
    "colab": {
     "base_uri": "https://localhost:8080/"
    },
    "id": "7DVoK3jvMenY",
    "outputId": "d7c92b3a-7397-4508-f183-dfed0a5e9572"
   },
   "outputs": [
    {
     "name": "stdout",
     "output_type": "stream",
     "text": [
      "[3.31846882 3.07249932 3.10550892 3.06665845 3.21339818 3.38575754\n",
      " 3.64319618 3.23328771 3.05849044 3.67137454 2.55327111 3.24625104\n",
      " 3.26223297 3.15928985 3.27708119 3.13477504 3.00418388 3.07029812\n",
      " 3.01900372 3.66531335 3.18302753 3.27633992 3.41461151 3.3916703\n",
      " 3.33504296 3.26359898 3.26009085 3.1973339  3.65561573 3.28902517\n",
      " 3.12841346 3.27219521 3.41374465 3.24361904 3.3774423  3.08011986\n",
      " 3.29525786 3.7378148  3.21761603 2.88549827 2.68909385 2.84330119\n",
      " 3.18084882 3.36656423 3.17138391 3.39279941 3.50066281 3.1057503\n",
      " 2.97020299 2.95522066 3.11954994 2.97847585 3.13173337 3.40221047\n",
      " 3.35558931 3.10265353 3.21676633 3.35553815 3.26017396 3.62661415\n",
      " 3.26823207 3.22157888 3.65927027 3.13604384 3.44301302 2.79843774\n",
      " 3.2411817  3.11955806 3.18016037 3.22752087 3.52635387 3.13244687\n",
      " 3.73971613 3.06837489 3.68278624 3.21074558 3.06777284 2.98267058\n",
      " 3.16105153 3.31984941 3.09070142 2.93393182]\n",
      "r^2: 0.757 RMSE: 0.126, MAE:0.1\n"
     ]
    }
   ],
   "source": [
    "from sklearn.metrics import r2_score,mean_squared_error,mean_absolute_error\n",
    "import math\n",
    "y_pred = modelo.predict(X_test)\n",
    "r2 = r2_score(y_test,y_pred) #comparo valores predecidos con los valores reales (y_test)\n",
    "rmse = math.sqrt(mean_squared_error(y_test,y_pred))\n",
    "mae = mean_absolute_error(y_test,y_pred)\n",
    "print(y_pred)\n",
    "print(f\"r^2: {round(r2,3)} RMSE: {round(rmse,3)}, MAE:{round(mae,3)}\")"
   ]
  },
  {
   "cell_type": "markdown",
   "metadata": {
    "id": "ykeiUO5dVdc_"
   },
   "source": [
    "Por un lado, me muestra el resultado de las predicciones generadas por el modelo para los datos de entrada X_test (que es el conjunto de datos separado antes del entrenamiento)\n",
    "\n",
    "Por otro lado, tengo los resultados de las medidas de error (en mi ejecución):\n",
    "r^2=0.753 RMSE=0.126, MAE=0.099\n",
    "\n",
    "Que junto con los obtenidos en el apartado Anexo*, se puede concluir que el modelo tiene un buen rendimiento. El R^2 se encuentra en el rango alto (más cerca al 1 que al 0,5) lo que indica buen ajuste del modelo. Y, las medidas RMSE y MAE sugieren que el modelo comete errores relativamente bajos."
   ]
  },
  {
   "cell_type": "markdown",
   "metadata": {
    "id": "DqlCpdOcQ1mh"
   },
   "source": [
    "**ANEXO:Afinando el error **\n",
    "\n",
    "De acuerdo con lo aprendido en clase, ejecutar el modelo varias veces nos permite asegurar la robustez y consistencia del modelo. Por ello, partiendo de la función definida en clase, obtengo:\n"
   ]
  },
  {
   "cell_type": "code",
   "execution_count": 61,
   "metadata": {
    "id": "lEg6KFT2QcEe"
   },
   "outputs": [],
   "source": [
    "import pandas as pd\n",
    "from sklearn.model_selection import train_test_split\n",
    "from sklearn.linear_model import LinearRegression\n",
    "from sklearn.metrics import r2_score,mean_squared_error,mean_absolute_error\n",
    "import math\n",
    "from tqdm import tqdm\n",
    "\n",
    "def evalua_regresion(df,XColumns,yColumn,veces=200):\n",
    "    # 1\n",
    "    X = df[XColumns]\n",
    "    y = df[yColumn]\n",
    "\n",
    "    resultados = []\n",
    "    for v in tqdm(range(veces)):\n",
    "        # 2\n",
    "        test = 0.4\n",
    "        X_train, X_test, y_train, y_test = train_test_split(X, y, test_size= test)\n",
    "\n",
    "        # 3\n",
    "        metodo = LinearRegression()\n",
    "        modelo = metodo.fit(X_train,y_train)\n",
    "\n",
    "        # 4\n",
    "        y_pred = modelo.predict(X_test)\n",
    "        r2 = r2_score(y_test,y_pred)\n",
    "        rmse = math.sqrt(mean_squared_error(y_test,y_pred))\n",
    "        mae = mean_absolute_error(y_test,y_pred)\n",
    "        bias = (y_test - y_pred).mean()\n",
    "        resultados.append([round(r2,3),round(rmse,3),round(mae,3),round(bias,3)])\n",
    "        #print(f\"r^2: {round(r2,3)} RMSE: {round(rmse,3)}, MAE:{round(mae,3)}\")\n",
    "\n",
    "    df_errores = pd.DataFrame(resultados,columns=[\"r^2\",\"RMSE\",\"MAE\",\"BIAS\"])\n",
    "    resumen = df_errores.describe().loc[\"mean\"]\n",
    "    return resumen, df_errores"
   ]
  },
  {
   "cell_type": "code",
   "execution_count": 62,
   "metadata": {
    "colab": {
     "base_uri": "https://localhost:8080/"
    },
    "id": "x95QrvsJQcy8",
    "outputId": "c420efa4-20fd-4fb5-82e2-6a67b320ebe2"
   },
   "outputs": [
    {
     "name": "stderr",
     "output_type": "stream",
     "text": [
      "100%|███████████████████████████████████████████████████████████████████████████████| 200/200 [00:00<00:00, 582.94it/s]"
     ]
    },
    {
     "name": "stdout",
     "output_type": "stream",
     "text": [
      "r^2     0.751160\n",
      "RMSE    0.119895\n",
      "MAE     0.094440\n",
      "BIAS   -0.000580\n",
      "Name: mean, dtype: float64\n"
     ]
    },
    {
     "name": "stderr",
     "output_type": "stream",
     "text": [
      "\n"
     ]
    }
   ],
   "source": [
    "df = Cotizaciones_MLNew\n",
    "\n",
    "XColumns = ['Ibex_2022', 'Ibex_2023', 'Santander_2022']\n",
    "yColumn = 'Santander_2023'\n",
    "resumen, df_errores = evalua_regresion(df, XColumns, yColumn)\n",
    "print(resumen)"
   ]
  }
 ],
 "metadata": {
  "colab": {
   "provenance": []
  },
  "kernelspec": {
   "display_name": "Python 3 (ipykernel)",
   "language": "python",
   "name": "python3"
  },
  "language_info": {
   "codemirror_mode": {
    "name": "ipython",
    "version": 3
   },
   "file_extension": ".py",
   "mimetype": "text/x-python",
   "name": "python",
   "nbconvert_exporter": "python",
   "pygments_lexer": "ipython3",
   "version": "3.12.7"
  }
 },
 "nbformat": 4,
 "nbformat_minor": 4
}
