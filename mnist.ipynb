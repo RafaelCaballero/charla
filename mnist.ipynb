{
 "cells": [
  {
   "cell_type": "markdown",
   "id": "d66ee8fb",
   "metadata": {
    "id": "d66ee8fb"
   },
   "source": [
    "\n",
    "## Aprendizaje automático en Python (I) - Rafael Caballero\n",
    "\n",
    "## Una primera red neuronal\n",
    "\n",
    "\n",
    "### Índice\n",
    "\n",
    "[Carga y preparación de datos](#carga)<br>\n",
    "[Arquitectura de la red](#arquitectura)<br>\n",
    "[Compilación](#compilacion)<br>\n",
    "[Entrenamiento](#entrenamiento)<br>\n",
    "[Evaluación](#evaluacion)<br>\n",
    "[Predicciónes](#predicciones)<br>\n",
    "[¿Cómo funciona el modelo?](#como)<br>\n",
    "\n",
    "<a name=\"carga\"></a>\n",
    "#### Carga y preparación de datos"
   ]
  },
  {
   "cell_type": "code",
   "execution_count": 11,
   "id": "f1d0a9cf",
   "metadata": {
    "id": "f1d0a9cf"
   },
   "outputs": [
    {
     "name": "stdout",
     "output_type": "stream",
     "text": [
      "Downloading data from https://storage.googleapis.com/tensorflow/tf-keras-datasets/mnist.npz\n",
      "\u001b[1m11490434/11490434\u001b[0m \u001b[32m━━━━━━━━━━━━━━━━━━━━\u001b[0m\u001b[37m\u001b[0m \u001b[1m1s\u001b[0m 0us/step\n"
     ]
    }
   ],
   "source": [
    "import tensorflow as tf\n",
    "from tensorflow import keras\n",
    "from keras.datasets import mnist\n",
    "(train_images, train_labels), (test_images, test_labels) = mnist.load_data()"
   ]
  },
  {
   "cell_type": "code",
   "execution_count": 12,
   "id": "4248c19e",
   "metadata": {
    "id": "4248c19e"
   },
   "outputs": [
    {
     "data": {
      "image/png": "[encoded data removed]",
      "text/plain": [
       "<Figure size 640x480 with 1 Axes>"
      ]
     },
     "metadata": {},
     "output_type": "display_data"
    }
   ],
   "source": [
    "import random\n",
    "import matplotlib.pyplot as plt\n",
    "%matplotlib inline\n",
    "\n",
    "a,_,_ = train_images.shape\n",
    "p  = random.randint(0,a)\n",
    "plt.imshow(train_images[p],cmap=plt.cm.binary)\n",
    "plt.title(train_labels[p])\n",
    "plt.show()"
   ]
  },
  {
   "cell_type": "markdown",
   "id": "57072bf5",
   "metadata": {
    "id": "57072bf5"
   },
   "source": [
    "Escalamos convirtiendo todos los pixels a valores entre 0 y 1. Aplanamos los dígitos que quedan como un solo vector de pixels (todas las filas consecutivas)"
   ]
  },
  {
   "cell_type": "code",
   "execution_count": 17,
   "id": "7cd9191a",
   "metadata": {
    "id": "7cd9191a"
   },
   "outputs": [],
   "source": [
    "train_images = train_images.reshape((60000, 28 * 28))\n",
    "train_images = train_images.astype(\"float32\") / 255\n",
    "test_images = test_images.reshape((10000, 28 * 28))\n",
    "test_images = test_images.astype(\"float32\") / 255"
   ]
  },
  {
   "cell_type": "markdown",
   "id": "9983b80e",
   "metadata": {
    "id": "9983b80e"
   },
   "source": [
    "<a name=\"arquitectura\"></a>\n",
    "#### Arquitectura de la red"
   ]
  },
  {
   "cell_type": "code",
   "execution_count": 19,
   "id": "992decb0",
   "metadata": {
    "id": "992decb0"
   },
   "outputs": [],
   "source": [
    "from keras import layers\n",
    "model = keras.Sequential([\n",
    "    layers.Dense(512, activation=\"relu\"),\n",
    "    layers.Dense(10, activation=\"softmax\")\n",
    "])"
   ]
  },
  {
   "cell_type": "markdown",
   "id": "9940d2b9",
   "metadata": {
    "id": "9940d2b9"
   },
   "source": [
    "<a name=\"compilacion\"></a>\n",
    "#### Compilación"
   ]
  },
  {
   "cell_type": "code",
   "execution_count": 21,
   "id": "bbe44ba4",
   "metadata": {
    "id": "bbe44ba4"
   },
   "outputs": [],
   "source": [
    "model.compile(optimizer=\"rmsprop\",\n",
    "              loss=\"sparse_categorical_crossentropy\",\n",
    "              metrics=[\"accuracy\"])"
   ]
  },
  {
   "cell_type": "markdown",
   "id": "4ddf3b02",
   "metadata": {
    "id": "4ddf3b02"
   },
   "source": [
    "<a name=\"entrenamiento\"></a>\n",
    "#### Entrenamiento"
   ]
  },
  {
   "cell_type": "code",
   "execution_count": 23,
   "id": "e7a260b8",
   "metadata": {
    "id": "e7a260b8"
   },
   "outputs": [
    {
     "name": "stdout",
     "output_type": "stream",
     "text": [
      "Epoch 1/5\n",
      "\u001b[1m469/469\u001b[0m \u001b[32m━━━━━━━━━━━━━━━━━━━━\u001b[0m\u001b[37m\u001b[0m \u001b[1m2s\u001b[0m 2ms/step - accuracy: 0.1598 - loss: 2.2802\n",
      "Epoch 2/5\n",
      "\u001b[1m469/469\u001b[0m \u001b[32m━━━━━━━━━━━━━━━━━━━━\u001b[0m\u001b[37m\u001b[0m \u001b[1m1s\u001b[0m 2ms/step - accuracy: 0.5440 - loss: 1.8637\n",
      "Epoch 3/5\n",
      "\u001b[1m469/469\u001b[0m \u001b[32m━━━━━━━━━━━━━━━━━━━━\u001b[0m\u001b[37m\u001b[0m \u001b[1m1s\u001b[0m 2ms/step - accuracy: 0.7291 - loss: 1.1414\n",
      "Epoch 4/5\n",
      "\u001b[1m469/469\u001b[0m \u001b[32m━━━━━━━━━━━━━━━━━━━━\u001b[0m\u001b[37m\u001b[0m \u001b[1m1s\u001b[0m 2ms/step - accuracy: 0.8024 - loss: 0.7926\n",
      "Epoch 5/5\n",
      "\u001b[1m469/469\u001b[0m \u001b[32m━━━━━━━━━━━━━━━━━━━━\u001b[0m\u001b[37m\u001b[0m \u001b[1m1s\u001b[0m 2ms/step - accuracy: 0.8385 - loss: 0.6251\n"
     ]
    },
    {
     "data": {
      "text/plain": [
       "<keras.src.callbacks.history.History at 0x1bc1bf27c80>"
      ]
     },
     "execution_count": 23,
     "metadata": {},
     "output_type": "execute_result"
    }
   ],
   "source": [
    "model.fit(train_images, train_labels, epochs=5, batch_size=128)"
   ]
  },
  {
   "cell_type": "markdown",
   "id": "71194cfc",
   "metadata": {
    "id": "71194cfc"
   },
   "source": [
    "<a name=\"evaluacion\"></a>\n",
    "#### Evaluación"
   ]
  },
  {
   "cell_type": "code",
   "execution_count": 25,
   "id": "96208309",
   "metadata": {
    "id": "96208309"
   },
   "outputs": [
    {
     "name": "stdout",
     "output_type": "stream",
     "text": [
      "\u001b[1m313/313\u001b[0m \u001b[32m━━━━━━━━━━━━━━━━━━━━\u001b[0m\u001b[37m\u001b[0m \u001b[1m0s\u001b[0m 1ms/step - accuracy: 0.8323 - loss: 0.5926\n",
      "test_acc: 0.8565000295639038\n"
     ]
    }
   ],
   "source": [
    "test_loss, test_acc = model.evaluate(test_images, test_labels)\n",
    "print(f\"test_acc: {test_acc}\")"
   ]
  },
  {
   "cell_type": "markdown",
   "id": "1d5528a1",
   "metadata": {
    "id": "1d5528a1"
   },
   "source": [
    "<a name=\"predicciones\"></a>\n",
    "#### Predicciones"
   ]
  },
  {
   "cell_type": "code",
   "execution_count": 29,
   "id": "606340f4",
   "metadata": {
    "id": "606340f4"
   },
   "outputs": [
    {
     "name": "stdout",
     "output_type": "stream",
     "text": [
      "\u001b[1m1/1\u001b[0m \u001b[32m━━━━━━━━━━━━━━━━━━━━\u001b[0m\u001b[37m\u001b[0m \u001b[1m0s\u001b[0m 16ms/step\n"
     ]
    },
    {
     "data": {
      "image/png": "[encoded data removed]",
      "text/plain": [
       "<Figure size 640x480 with 1 Axes>"
      ]
     },
     "metadata": {},
     "output_type": "display_data"
    },
    {
     "data": {
      "text/plain": [
       "array([5.40846214e-03, 6.08094670e-05, 7.51195401e-02, 2.23381049e-03,\n",
       "       6.40245676e-01, 9.85233672e-03, 9.85452384e-02, 1.66799091e-02,\n",
       "       1.17315585e-02, 1.40122801e-01], dtype=float32)"
      ]
     },
     "execution_count": 29,
     "metadata": {},
     "output_type": "execute_result"
    }
   ],
   "source": [
    "a,_ = test_images.shape\n",
    "p  = random.randint(0,a)\n",
    "plt.imshow(test_images[p].reshape(28,28),cmap=plt.cm.binary)\n",
    "\n",
    "predictions = model.predict(test_images[p:p+1])\n",
    "v = predictions[0].argmax()\n",
    "plt.title(f\"real {test_labels[p]} - predicho {v}\")\n",
    "plt.show()\n",
    "predictions[0]"
   ]
  },
  {
   "cell_type": "markdown",
   "id": "ec3d4b6b",
   "metadata": {
    "id": "ec3d4b6b"
   },
   "source": [
    "<a name=\"como\"></a>\n",
    "#### ¿Cómo funciona el modelo?"
   ]
  },
  {
   "cell_type": "code",
   "execution_count": null,
   "id": "b04a9c0c",
   "metadata": {
    "id": "b04a9c0c"
   },
   "outputs": [],
   "source": [
    "Ws = model.get_weights()"
   ]
  },
  {
   "cell_type": "code",
   "execution_count": null,
   "id": "2dc17233",
   "metadata": {
    "id": "2dc17233"
   },
   "outputs": [],
   "source": [
    "Ws[0].ndim, Ws[1].ndim, Ws[2].ndim, Ws[3].ndim"
   ]
  },
  {
   "cell_type": "code",
   "execution_count": null,
   "id": "7e75f254",
   "metadata": {
    "id": "7e75f254"
   },
   "outputs": [],
   "source": [
    "import numpy as np\n",
    "\n",
    "D = test_images[p]\n",
    "D.shape"
   ]
  },
  {
   "cell_type": "code",
   "execution_count": null,
   "id": "951cc2ff",
   "metadata": {
    "id": "951cc2ff"
   },
   "outputs": [],
   "source": [
    "Ws[0].shape, Ws[1].shape, Ws[2].shape, Ws[3].shape"
   ]
  },
  {
   "cell_type": "code",
   "execution_count": null,
   "id": "7ccfcbcb",
   "metadata": {
    "id": "7ccfcbcb"
   },
   "outputs": [],
   "source": [
    "W1 = Ws[0]\n",
    "b1 = Ws[1]\n",
    "W2 = Ws[2]\n",
    "b2 = Ws[3]"
   ]
  },
  {
   "cell_type": "code",
   "execution_count": null,
   "id": "60cc83db",
   "metadata": {
    "id": "60cc83db"
   },
   "outputs": [],
   "source": [
    "from tensorflow.nn import softmax, relu\n",
    "\n",
    "softmax(relu(D.dot(W1) + b1).numpy().dot(W2)+b2).numpy()"
   ]
  },
  {
   "cell_type": "markdown",
   "id": "d0f75594",
   "metadata": {
    "id": "d0f75594"
   },
   "source": [
    "Relu es muy fácil de entender, simplemente reemplaza números negativos por 0; la idea es que la neurona no se activa si no alcanza un cierto nivel (generalmente el 0)"
   ]
  },
  {
   "cell_type": "code",
   "execution_count": null,
   "id": "557a24c6",
   "metadata": {
    "id": "557a24c6"
   },
   "outputs": [],
   "source": [
    "(D.dot(W1) + b1)[:20]"
   ]
  },
  {
   "cell_type": "code",
   "execution_count": null,
   "id": "c4695dbf",
   "metadata": {
    "id": "c4695dbf"
   },
   "outputs": [],
   "source": [
    "relu(D.dot(W1) + b1).numpy()[:20]"
   ]
  },
  {
   "cell_type": "markdown",
   "id": "ecf2b906",
   "metadata": {
    "id": "ecf2b906"
   },
   "source": [
    "Explicación:\n",
    "\n",
    "En la primera capa cada neurona tiene 784 pesos + 1 (la b). Llamamos W1i a los pesos de la neurona i (desde 1 a 512) y b1i al término independiente.\n",
    "\n",
    "Los 784 valores de la imagen se multiplican escalarmente por los 784 pesos W1i (kernel) de cada neurona (512 neuronas) y se suma la b1i  (bias) de cada neurona. Esto asocia un valor numérico a cada neurona.\n",
    "\n",
    "La función relu convierte a 0 como salida los valores negativos.\n",
    "\n",
    "En la segunda capa cada una de las 10 neuronas tiene 512 pesos a los que llamamos W2j con j=1..512 (los kernel), y su término independiente b2j (bias)\n",
    "\n",
    "Análogamente al caso de la primera los 512 valores de salida de cada capa se multiplican escalarmente por los 512 pesos W2j de cada neurona y se suma el b2j, esto da un número por cada neurona\n",
    "\n",
    "La función softmax toma estos números y los convierte en probabilidades\n",
    "\n",
    "\n",
    "\n",
    "<img src=https://www.tutorialspoint.com/deep_learning_with_keras/images/input_layer.jpg width=400 />"
   ]
  },
  {
   "cell_type": "code",
   "execution_count": null,
   "id": "7de5e984",
   "metadata": {
    "id": "7de5e984"
   },
   "outputs": [],
   "source": [
    "relu(D.dot(W1) + b1).numpy().dot(W2)+b2"
   ]
  },
  {
   "cell_type": "code",
   "execution_count": null,
   "id": "280bb115",
   "metadata": {
    "id": "280bb115"
   },
   "outputs": [],
   "source": [
    "softmax(relu(D.dot(W1) + b1).numpy().dot(W2)+b2).numpy()"
   ]
  },
  {
   "cell_type": "code",
   "execution_count": null,
   "id": "f95a6bcd",
   "metadata": {
    "id": "f95a6bcd"
   },
   "outputs": [],
   "source": [
    "softmax(relu(D.dot(W1) + b1).numpy().dot(W2)+b2).numpy().sum()"
   ]
  },
  {
   "cell_type": "code",
   "execution_count": null,
   "id": "d8043588",
   "metadata": {
    "id": "d8043588"
   },
   "outputs": [],
   "source": []
  }
 ],
 "metadata": {
  "colab": {
   "provenance": []
  },
  "kernelspec": {
   "display_name": "Python 3 (ipykernel)",
   "language": "python",
   "name": "python3"
  },
  "language_info": {
   "codemirror_mode": {
    "name": "ipython",
    "version": 3
   },
   "file_extension": ".py",
   "mimetype": "text/x-python",
   "name": "python",
   "nbconvert_exporter": "python",
   "pygments_lexer": "ipython3",
   "version": "3.12.4"
  }
 },
 "nbformat": 4,
 "nbformat_minor": 5
}
