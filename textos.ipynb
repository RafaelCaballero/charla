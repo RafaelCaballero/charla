{
  "cells": [
    {
      "cell_type": "markdown",
      "metadata": {
        "id": "view-in-github",
        "colab_type": "text"
      },
      "source": [
        "<a href=\"https://colab.research.google.com/github/RafaelCaballero/charla/blob/main/textos.ipynb\" target=\"_parent\"><img src=\"https://colab.research.google.com/assets/colab-badge.svg\" alt=\"Open In Colab\"/></a>"
      ]
    },
    {
      "cell_type": "markdown",
      "metadata": {
        "id": "1z-0iMEoyigc"
      },
      "source": [
        "# Análisis de textos\n",
        "\n",
        "Empezamos instalando una biblioteca que vamos a utilizar"
      ]
    },
    {
      "cell_type": "code",
      "execution_count": 6,
      "metadata": {
        "id": "AcLCGST7yaxF",
        "outputId": "27af203c-6ae2-47df-9fe4-3b10b027aec5",
        "colab": {
          "base_uri": "https://localhost:8080/"
        }
      },
      "outputs": [
        {
          "output_type": "stream",
          "name": "stdout",
          "text": [
            "Instalando pipelines de Spacy\n",
            "Instalando  en_core_web_sm\n",
            "¡Problema al instalar en_core_web_sm! ¿seguro que el pipeline existe?\n",
            "¡Terminado!\n",
            "Instalando bibliotecas\n",
            "spacytextblob  No encontrado, instalando...¡Problema al instalar spacytextblob! ¿seguro que el módulo existe?\n",
            "flair  No encontrado, instalando...¡Hecho!\n",
            "goose3  No encontrado, instalando...¡Problema al instalar goose3! ¿seguro que el módulo existe?\n",
            "wordcloud  encontrado\n",
            "¡Terminado!\n",
            "Recuerda reiniciar (Entorno de ejecución + Reiniciar entorno de ejecución) para que la(s) nueva(s) biblioteca(s) estén disponbles\n"
          ]
        }
      ],
      "source": [
        "import warnings\n",
        "warnings.filterwarnings('ignore')\n",
        "\n",
        "bibliotecas = [\"flair\",\"goose3\",\"wordcloud\"]\n",
        "\n",
        "import sys\n",
        "import os.path\n",
        "from subprocess import check_call\n",
        "import importlib\n",
        "import os\n",
        "import numpy as np\n",
        "\n",
        "def instala_bibliotecas(bibliotecas):\n",
        "  print(\"Instalando bibliotecas\")\n",
        "  alguna = False\n",
        "  for m in bibliotecas:\n",
        "      # para el import quitamos [...] y ==...\n",
        "      p = m.find(\"[\")\n",
        "      mi = m if p==-1 else m[:p]\n",
        "      p = mi.find(\"==\")\n",
        "      mi = mi if p==-1 else mi[:p]\n",
        "\n",
        "      torch_loader = importlib.util.find_spec(mi)\n",
        "      if torch_loader is not None:\n",
        "          print(m, \" encontrado\")\n",
        "      else:\n",
        "          print(m, \" No encontrado, instalando...\",end=\"\")\n",
        "          try:\n",
        "            r = check_call([sys.executable, \"-m\", \"pip\", \"install\", \"--user\", m])\n",
        "            print(\"¡Hecho!\")\n",
        "            alguna = True\n",
        "          except:\n",
        "            print(\"¡Problema al instalar \",m,\"! ¿seguro que el módulo existe?\",sep=\"\")\n",
        "\n",
        "  print(\"¡Terminado!\")\n",
        "  if alguna:\n",
        "    print(\"Recuerda reiniciar (Entorno de ejecución + Reiniciar entorno de ejecución) para que la(s) nueva(s) biblioteca(s) estén disponbles\")\n",
        "\n",
        "\n",
        "\n",
        "\n",
        "\n",
        "instala_bibliotecas(bibliotecas)\n",
        "\n",
        "\n"
      ]
    },
    {
      "cell_type": "code",
      "execution_count": null,
      "metadata": {
        "id": "nxxHXpOKhZ17",
        "outputId": "d4d2fd53-ed28-4871-dc27-991a6b90e623"
      },
      "outputs": [
        {
          "name": "stderr",
          "output_type": "stream",
          "text": [
            "[nltk_data] Downloading package punkt to\n",
            "[nltk_data]     C:\\Users\\sames\\AppData\\Roaming\\nltk_data...\n",
            "[nltk_data]   Package punkt is already up-to-date!\n"
          ]
        },
        {
          "data": {
            "text/plain": [
              "True"
            ]
          },
          "execution_count": 7,
          "metadata": {},
          "output_type": "execute_result"
        }
      ],
      "source": [
        "\n",
        "import nltk\n",
        "nltk.download('punkt')"
      ]
    },
    {
      "cell_type": "markdown",
      "metadata": {
        "id": "B9zhAa7FAidN"
      },
      "source": [
        "### ¿De dónde salen los datos?\n",
        "\n",
        "\n",
        "\n",
        "*   Programación con bibliotecas\n",
        "*   [Programas especializados](https://chrome.google.com/webstore/detail/aliexpress-reviews-export/glnajkhggmbljlcafknlkcihcheoankc?hl=en)\n",
        "* Bases de datos"
      ]
    },
    {
      "cell_type": "code",
      "execution_count": null,
      "metadata": {
        "id": "5aPG8ntZ8bnv"
      },
      "outputs": [],
      "source": [
        "# origen https://www.amazon.com/-/es/product-reviews/B07ZPKF8RG/ref=cm_cr_unknown?ie=UTF8&filterByStar=two_star&reviewerType=all_reviews&pageNumber=1#reviews-filter-bar\n",
        "textos = ['Broken. It was supposed to be a B-Day gift for my mom and now she doesn’t get a gift on her Bday',\n",
        "          'Touchscreen became almost completely unresponsive over 20% of surface area within days',\n",
        "          \"A little over 90 days, hardware failure, NO Solution, DON'T BUY\",\n",
        "          \"Wanted to love it, but it had too many problems upon arrival\",\n",
        "          \"Phone is great but the battery health is 76%\",\n",
        "          \"Happy customer! It came with protective glass installed.\",\n",
        "          \"Great phone for the price!\",\n",
        "          \"I love this phone\",\n",
        "          \"Definitely Recommend!\"]"
      ]
    },
    {
      "cell_type": "markdown",
      "metadata": {
        "id": "pzeQecGrJBb5"
      },
      "source": [
        "Librería Flair"
      ]
    },
    {
      "cell_type": "code",
      "execution_count": null,
      "metadata": {
        "id": "bcOY76Z_vzfK",
        "outputId": "17e30f4f-37bc-41e1-883a-d03b1bedc44d",
        "colab": {
          "referenced_widgets": [
            "3e9b42123d074c64b88ab7922dda4482",
            "ab1d0b2ed3e745ffa3b33263b238819e",
            "53768ddb90444c0791b710ab1973e5dc",
            "42664fa9609c4382a238647ab8c96adc"
          ]
        }
      },
      "outputs": [
        {
          "name": "stdout",
          "output_type": "stream",
          "text": [
            "2024-11-07 20:15:37,931 https://nlp.informatik.hu-berlin.de/resources/models/sentiment-curated-distilbert/sentiment-en-mix-distillbert_4.pt not found in cache, downloading to C:\\Users\\sames\\AppData\\Local\\Temp\\tmpuqksqbf2\n"
          ]
        },
        {
          "name": "stderr",
          "output_type": "stream",
          "text": [
            "100%|███████████████████████████████████████████████████████████████████████████████| 253M/253M [00:16<00:00, 15.9MB/s]"
          ]
        },
        {
          "name": "stdout",
          "output_type": "stream",
          "text": [
            "2024-11-07 20:15:54,747 copying C:\\Users\\sames\\AppData\\Local\\Temp\\tmpuqksqbf2 to cache at C:\\Users\\sames\\.flair\\models\\sentiment-en-mix-distillbert_4.pt\n"
          ]
        },
        {
          "name": "stderr",
          "output_type": "stream",
          "text": [
            "\n"
          ]
        },
        {
          "name": "stdout",
          "output_type": "stream",
          "text": [
            "2024-11-07 20:15:54,889 removing temp file C:\\Users\\sames\\AppData\\Local\\Temp\\tmpuqksqbf2\n"
          ]
        },
        {
          "data": {
            "application/vnd.jupyter.widget-view+json": {
              "model_id": "3e9b42123d074c64b88ab7922dda4482",
              "version_major": 2,
              "version_minor": 0
            },
            "text/plain": [
              "tokenizer_config.json:   0%|          | 0.00/48.0 [00:00<?, ?B/s]"
            ]
          },
          "metadata": {},
          "output_type": "display_data"
        },
        {
          "data": {
            "application/vnd.jupyter.widget-view+json": {
              "model_id": "ab1d0b2ed3e745ffa3b33263b238819e",
              "version_major": 2,
              "version_minor": 0
            },
            "text/plain": [
              "config.json:   0%|          | 0.00/483 [00:00<?, ?B/s]"
            ]
          },
          "metadata": {},
          "output_type": "display_data"
        },
        {
          "data": {
            "application/vnd.jupyter.widget-view+json": {
              "model_id": "53768ddb90444c0791b710ab1973e5dc",
              "version_major": 2,
              "version_minor": 0
            },
            "text/plain": [
              "vocab.txt:   0%|          | 0.00/232k [00:00<?, ?B/s]"
            ]
          },
          "metadata": {},
          "output_type": "display_data"
        },
        {
          "data": {
            "application/vnd.jupyter.widget-view+json": {
              "model_id": "42664fa9609c4382a238647ab8c96adc",
              "version_major": 2,
              "version_minor": 0
            },
            "text/plain": [
              "tokenizer.json:   0%|          | 0.00/466k [00:00<?, ?B/s]"
            ]
          },
          "metadata": {},
          "output_type": "display_data"
        },
        {
          "name": "stdout",
          "output_type": "stream",
          "text": [
            "Broken. It was supposed to be a B-Day gift for my mom and now she doesn’t get a gift on her Bday\n",
            "{'value': 'NEGATIVE', 'confidence': 0.9999802112579346}\n",
            "==============================\n",
            "Touchscreen became almost completely unresponsive over 20% of surface area within days\n",
            "{'value': 'NEGATIVE', 'confidence': 0.9999871253967285}\n",
            "==============================\n",
            "A little over 90 days, hardware failure, NO Solution, DON'T BUY\n",
            "{'value': 'NEGATIVE', 'confidence': 0.9999891519546509}\n",
            "==============================\n",
            "Wanted to love it, but it had too many problems upon arrival\n",
            "{'value': 'NEGATIVE', 'confidence': 0.9965147376060486}\n",
            "==============================\n",
            "Phone is great but the battery health is 76%\n",
            "{'value': 'POSITIVE', 'confidence': 0.6195186376571655}\n",
            "==============================\n",
            "Happy customer! It came with protective glass installed.\n",
            "{'value': 'POSITIVE', 'confidence': 0.9990748167037964}\n",
            "==============================\n",
            "Great phone for the price!\n",
            "{'value': 'POSITIVE', 'confidence': 0.9992345571517944}\n",
            "==============================\n",
            "I love this phone\n",
            "{'value': 'POSITIVE', 'confidence': 0.9687193632125854}\n",
            "==============================\n",
            "Definitely Recommend!\n",
            "{'value': 'POSITIVE', 'confidence': 0.999708354473114}\n",
            "==============================\n"
          ]
        }
      ],
      "source": [
        "from flair.models import TextClassifier\n",
        "from flair.data import Sentence\n",
        "classifier = TextClassifier.load('en-sentiment')\n",
        "\n",
        "for s in textos:\n",
        "  text = Sentence(s)\n",
        "\n",
        "  classifier.predict(text)\n",
        "  value = text.labels[0].to_dict()\n",
        "  print(s)\n",
        "  print(value)\n",
        "  print(\"=\"*30)"
      ]
    },
    {
      "cell_type": "markdown",
      "metadata": {
        "id": "YvFlHExajY5M"
      },
      "source": [
        "Para jugar"
      ]
    },
    {
      "cell_type": "code",
      "execution_count": null,
      "metadata": {
        "id": "XCw7OUSRjaW7",
        "outputId": "ad14a50e-b02d-4f83-d272-a8602ccf217f"
      },
      "outputs": [
        {
          "name": "stdout",
          "output_type": "stream",
          "text": [
            "{'value': 'NEGATIVE', 'confidence': 0.8354089856147766}\n"
          ]
        }
      ],
      "source": [
        "s = \"muslim\"\n",
        "text = Sentence(s)\n",
        "classifier = TextClassifier.load('en-sentiment')\n",
        "classifier.predict(text)\n",
        "value = text.labels[0].to_dict()\n",
        "print(value)"
      ]
    },
    {
      "cell_type": "markdown",
      "metadata": {
        "id": "j7P7yZdOOl6J"
      },
      "source": [
        "## NER (Named Entity Recognition)\n",
        "\n",
        "Reconocimiento de sustantivos que denotan nombres, organizaciones, etc. Importante para saber de qué se está hablando en textos complejos"
      ]
    },
    {
      "cell_type": "code",
      "execution_count": null,
      "metadata": {
        "id": "3vg8XVJsQZl8"
      },
      "outputs": [],
      "source": [
        "from flair.data import Sentence\n",
        "from flair.models import SequenceTagger\n",
        "\n",
        "# load tagger\n",
        "tagger = SequenceTagger.load(\"flair/ner-spanish-large\")"
      ]
    },
    {
      "cell_type": "code",
      "execution_count": null,
      "metadata": {
        "id": "xdfPFENHOjvK"
      },
      "outputs": [],
      "source": [
        "\n",
        "\n",
        "# make example sentence\n",
        "sentence = Sentence(\"George Washington fue a Washington, mientras que mi amiga Belén visitaba Belén\")\n",
        "\n",
        "# predict NER tags\n",
        "tagger.predict(sentence)\n",
        "\n",
        "# print sentence\n",
        "print(sentence)\n",
        "\n",
        "# print predicted NER spans\n",
        "print('The following NER tags are found:')\n",
        "# iterate over entities and print\n",
        "for entity in sentence.get_spans('ner'):\n",
        "    print(entity)"
      ]
    },
    {
      "cell_type": "code",
      "execution_count": null,
      "metadata": {
        "id": "ZpM0WsNXQl2j"
      },
      "outputs": [],
      "source": [
        "s = \"\"\"\n",
        "Hermoso y clásico apartamento a cuadras de la Plaza Mayor\n",
        "10\n",
        "Liked · Lindo apartamento. Cómodo y espacioso. Muy bien ubicado. Javier fue muy amable en todo. Pasamos una muy grata estancia como familia.\n",
        "Disliked · La señal Wifi tenía bajo rango, desconectandose cada cierto tiempo\n",
        "\"\"\"\n",
        "\n",
        "\n",
        "sentence = Sentence(s)\n",
        "\n",
        "# predict NER tags\n",
        "tagger.predict(sentence)\n",
        "\n",
        "\n",
        "# print predicted NER spans\n",
        "print('The following NER tags are found:')\n",
        "# iterate over entities and print\n",
        "for entity in sentence.get_spans('ner'):\n",
        "    print(entity)"
      ]
    },
    {
      "cell_type": "markdown",
      "metadata": {
        "id": "Ct1TWRo2SGAs"
      },
      "source": [
        "## Frases y palabras\n",
        "\n",
        "Una de las tareas más comunes al tratar con textos largos es separar en frases y mostrar las palabras más frecuentes"
      ]
    },
    {
      "cell_type": "code",
      "execution_count": null,
      "metadata": {
        "id": "ylGlbFQQSLwy"
      },
      "outputs": [],
      "source": [
        "from goose3 import Goose\n",
        "#import es_core_news_sm\n",
        "\n",
        "nlp = spacy.load('en_core_web_sm')\n",
        "\n",
        "# descargamos la noticia\n",
        "g = Goose()\n",
        "pag_dir = \"https://elpais.com/espana/2023-02-23/espana-sufre-hoy-el-dia-mas-duro-del-nuevo-episodio-invernal-con-11-comunidades-en-alerta-por-nevadas-a-cotas-muy-bajas.html\"\n",
        "articulo = g.extract(url=pag_dir)\n",
        "texto = articulo.cleaned_text\n",
        "# utilizamos el modelo para contar oraciones\n",
        "#nlp = es_core_news_sm.load()\n",
        "doc = nlp(texto)\n",
        "print(\"El artículo incluye \", len(list(doc.sents)),\"oraciones\")\n",
        "for i,s in enumerate(doc.sents):\n",
        "  print(i,s)"
      ]
    },
    {
      "cell_type": "markdown",
      "metadata": {
        "id": "VYHq-7PgV4xE"
      },
      "source": [
        "Nos preguntamos qué palabras aparecen más en el texto. Una primera versión con no demasiado éxito"
      ]
    },
    {
      "cell_type": "code",
      "execution_count": null,
      "metadata": {
        "id": "RcgsFA0BWBKc"
      },
      "outputs": [],
      "source": [
        "from collections import Counter\n",
        "palabras = texto.split(\" \")\n",
        "c2 = Counter(palabras)\n",
        "print(c2)"
      ]
    },
    {
      "cell_type": "markdown",
      "metadata": {
        "id": "ypMBU0ARWOBT"
      },
      "source": [
        "No resulta muy útil debido a la abundancia de las palabras vacías o \"stop words\". Veamos cómo quitarlas"
      ]
    },
    {
      "cell_type": "code",
      "execution_count": null,
      "metadata": {
        "id": "cfkvHAODWUNb"
      },
      "outputs": [],
      "source": [
        "from collections import Counter\n",
        "\n",
        "nlp = spacy.load('es_core_news_md')\n",
        "\n",
        "doc = nlp(texto)\n",
        "palabras = [p.text.upper() for p in doc\n",
        "             if p.is_alpha and not p.is_stop]\n",
        "frecuencia = Counter(palabras)\n",
        "palabras_comunes = frecuencia.most_common(5)\n",
        "print(palabras_comunes)"
      ]
    },
    {
      "cell_type": "markdown",
      "metadata": {
        "id": "_bLhVQnnTjec"
      },
      "source": [
        "## Nubes de palabras"
      ]
    },
    {
      "cell_type": "code",
      "execution_count": null,
      "metadata": {
        "id": "fKs62linTnxj",
        "outputId": "c5359133-1042-4df0-c5d6-f357d43042f0"
      },
      "outputs": [
        {
          "ename": "ModuleNotFoundError",
          "evalue": "No module named 'goose3'",
          "output_type": "error",
          "traceback": [
            "\u001b[1;31m---------------------------------------------------------------------------\u001b[0m",
            "\u001b[1;31mModuleNotFoundError\u001b[0m                       Traceback (most recent call last)",
            "Cell \u001b[1;32mIn[1], line 1\u001b[0m\n\u001b[1;32m----> 1\u001b[0m \u001b[38;5;28;01mfrom\u001b[39;00m \u001b[38;5;21;01mgoose3\u001b[39;00m \u001b[38;5;28;01mimport\u001b[39;00m Goose\n\u001b[0;32m      2\u001b[0m \u001b[38;5;28;01mimport\u001b[39;00m \u001b[38;5;21;01mspacy\u001b[39;00m\n\u001b[0;32m      3\u001b[0m \u001b[38;5;28;01mfrom\u001b[39;00m \u001b[38;5;21;01mwordcloud\u001b[39;00m \u001b[38;5;28;01mimport\u001b[39;00m WordCloud\n",
            "\u001b[1;31mModuleNotFoundError\u001b[0m: No module named 'goose3'"
          ]
        }
      ],
      "source": [
        "from goose3 import Goose\n",
        "import spacy\n",
        "from wordcloud import WordCloud\n",
        "import matplotlib.pyplot as plt\n",
        "\n",
        "# descargamos la noticia\n",
        "g = Goose()\n",
        "pag_dir = \"https://elpais.com/diario/1980/12/10/cultura/345250806_850215.html\"\n",
        "#pag_dir = \"https://elpais.com/espana/2023-02-23/espana-sufre-hoy-el-dia-mas-duro-del-nuevo-episodio-invernal-con-11-comunidades-en-alerta-por-nevadas-a-cotas-muy-bajas.html\"\n",
        "\n",
        "articulo = g.extract(url=pag_dir)\n",
        "texto = articulo.cleaned_text\n",
        "\n",
        "# generar nube de palabras\n",
        "nlp = spacy.blank('es')\n",
        "palabrasvacías = nlp.Defaults.stop_words\n",
        "#palabrasvacías.add(\"zona\")\n",
        "w  = WordCloud(stopwords = palabrasvacías)\n",
        "w.generate(texto)\n",
        "\n",
        "# mostramos el resultado\n",
        "fig, ax = plt.subplots(1,1, figsize=(20,7),dpi=100)\n",
        "plt.imshow(w)\n",
        "fig.savefig(\"wordcloud1.png\")"
      ]
    },
    {
      "cell_type": "code",
      "execution_count": null,
      "metadata": {
        "id": "zGHh9EdSx4rA"
      },
      "outputs": [],
      "source": []
    }
  ],
  "metadata": {
    "colab": {
      "provenance": [],
      "include_colab_link": true
    },
    "kernelspec": {
      "display_name": "Python 3 (ipykernel)",
      "language": "python",
      "name": "python3"
    },
    "language_info": {
      "codemirror_mode": {
        "name": "ipython",
        "version": 3
      },
      "file_extension": ".py",
      "mimetype": "text/x-python",
      "name": "python",
      "nbconvert_exporter": "python",
      "pygments_lexer": "ipython3",
      "version": "3.12.4"
    }
  },
  "nbformat": 4,
  "nbformat_minor": 0
}